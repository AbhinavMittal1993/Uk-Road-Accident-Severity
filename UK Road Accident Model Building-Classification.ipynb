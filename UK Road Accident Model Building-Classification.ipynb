{
 "cells": [
  {
   "cell_type": "markdown",
   "id": "01e66eb0",
   "metadata": {},
   "source": [
    "## Business Objective\n",
    "\n",
    "The first and foremost objective of this project is to build the classification model for the Road Safety UK dataset 2020 The model are build keeping accident severity as the Target variable three classes of severity are Fatal,Serious and slightThis model is supposed to be able to.  predict the likelihood of this accident being a severe one or slight or serious.We are trying to build a model to predict the accident severity for the National Highway Authority of United Kingdom. So that they can take effective measures to controll the severity of accidents and lower down the number of accidents.\n",
    "\n",
    "Yhe algorithm used in bilding the classification model are:\n",
    "\n",
    "1. Decision Tree Classfier\n",
    "2. Random Forest\n",
    "3. Random Forest Using OverSampling\n",
    "4. Random Forest Using Randomized CV\n",
    "5. Support Vecto Classifier\n",
    "6. Multinomial Logistic Regression\n",
    "\n",
    "The aim is to check the accuracy of the model on Training and test data, to understand the prediction power of model, so in future based on predictors whether model will be able to determine the severity of the accident"
   ]
  },
  {
   "cell_type": "code",
   "execution_count": 242,
   "id": "eea97ccf",
   "metadata": {},
   "outputs": [
    {
     "name": "stderr",
     "output_type": "stream",
     "text": [
      "Intel(R) Extension for Scikit-learn* enabled (https://github.com/intel/scikit-learn-intelex)\n"
     ]
    }
   ],
   "source": [
    "# Importing the base Libraries\n",
    "\n",
    "import pandas as pd\n",
    "import numpy as np\n",
    "import matplotlib.pyplot as plt\n",
    "from collections import defaultdict\n",
    "import seaborn as sns  # viz\n",
    "from IPython.display import HTML, display\n",
    "pd.set_option(\"display.max_columns\",None)\n",
    "import plotly.express as px\n",
    "import os\n",
    "import urllib\n",
    "from sklearnex import patch_sklearn\n",
    "patch_sklearn()\n",
    "from sklearn.metrics import confusion_matrix, ConfusionMatrixDisplay\n",
    "from sklearn.model_selection import cross_val_predict\n"
   ]
  },
  {
   "cell_type": "markdown",
   "id": "fa03dee4",
   "metadata": {},
   "source": [
    "## Exporting the Trainset and Test Set"
   ]
  },
  {
   "cell_type": "code",
   "execution_count": 243,
   "id": "55bf05a9",
   "metadata": {},
   "outputs": [],
   "source": [
    "train_set=pd.read_csv(\"trainset.csv\")\n",
    "test_set=pd.read_csv(\"testset.csv\")"
   ]
  },
  {
   "cell_type": "code",
   "execution_count": 244,
   "id": "7c548e21",
   "metadata": {},
   "outputs": [
    {
     "data": {
      "text/html": [
       "<div>\n",
       "<style scoped>\n",
       "    .dataframe tbody tr th:only-of-type {\n",
       "        vertical-align: middle;\n",
       "    }\n",
       "\n",
       "    .dataframe tbody tr th {\n",
       "        vertical-align: top;\n",
       "    }\n",
       "\n",
       "    .dataframe thead th {\n",
       "        text-align: right;\n",
       "    }\n",
       "</style>\n",
       "<table border=\"1\" class=\"dataframe\">\n",
       "  <thead>\n",
       "    <tr style=\"text-align: right;\">\n",
       "      <th></th>\n",
       "      <th>longitude</th>\n",
       "      <th>latitude</th>\n",
       "      <th>accident_severity</th>\n",
       "      <th>number_of_vehicles</th>\n",
       "      <th>number_of_casualties</th>\n",
       "      <th>speed_limit</th>\n",
       "      <th>first_road_class_A(M)</th>\n",
       "      <th>first_road_class_B</th>\n",
       "      <th>first_road_class_C</th>\n",
       "      <th>first_road_class_Motorway</th>\n",
       "      <th>first_road_class_Unclassified</th>\n",
       "      <th>road_type_One way street</th>\n",
       "      <th>road_type_Roundabout</th>\n",
       "      <th>road_type_Single Carriageway</th>\n",
       "      <th>road_type_Sliproad</th>\n",
       "      <th>junction_detail_Mini-roundabout</th>\n",
       "      <th>junction_detail_More than 4 arms (not roundabout)</th>\n",
       "      <th>junction_detail_Not at junction or within 20 metres</th>\n",
       "      <th>junction_detail_Other junction</th>\n",
       "      <th>junction_detail_Private drive or entrance</th>\n",
       "      <th>junction_detail_Roundabout</th>\n",
       "      <th>junction_detail_Slip road</th>\n",
       "      <th>junction_detail_T or staggered junction</th>\n",
       "      <th>junction_detail_unknown (self reported)</th>\n",
       "      <th>pedestrian_crossing_physical_facilities_Footbridge or subway</th>\n",
       "      <th>pedestrian_crossing_physical_facilities_No physical crossing facilities within 50 metres</th>\n",
       "      <th>pedestrian_crossing_physical_facilities_Pedestrian phase at traffic signal junction</th>\n",
       "      <th>pedestrian_crossing_physical_facilities_Pelican, puffin, toucan or similar non-junction pedestrian light crossing</th>\n",
       "      <th>pedestrian_crossing_physical_facilities_Zebra</th>\n",
       "      <th>pedestrian_crossing_physical_facilities_unknown (self reported)</th>\n",
       "      <th>light_conditions_Darkness - lights lit</th>\n",
       "      <th>light_conditions_Darkness - lights unlit</th>\n",
       "      <th>light_conditions_Darkness - no lighting</th>\n",
       "      <th>light_conditions_Daylight</th>\n",
       "      <th>weather_conditions_Fine no high winds</th>\n",
       "      <th>weather_conditions_Fog or mist</th>\n",
       "      <th>weather_conditions_Other</th>\n",
       "      <th>weather_conditions_Raining + high winds</th>\n",
       "      <th>weather_conditions_Raining no high winds</th>\n",
       "      <th>weather_conditions_Snowing + high winds</th>\n",
       "      <th>weather_conditions_Snowing no high winds</th>\n",
       "      <th>weather_conditions_Unknown</th>\n",
       "      <th>road_surface_conditions_Flood over 3cm. deep</th>\n",
       "      <th>road_surface_conditions_Frost or ice</th>\n",
       "      <th>road_surface_conditions_Snow</th>\n",
       "      <th>road_surface_conditions_Wet or damp</th>\n",
       "      <th>road_surface_conditions_unknown (self reported)</th>\n",
       "      <th>day_of_week_Monday</th>\n",
       "      <th>day_of_week_Saturday</th>\n",
       "      <th>day_of_week_Sunday</th>\n",
       "      <th>day_of_week_Thursday</th>\n",
       "      <th>day_of_week_Tuesday</th>\n",
       "      <th>day_of_week_Wednesday</th>\n",
       "    </tr>\n",
       "  </thead>\n",
       "  <tbody>\n",
       "    <tr>\n",
       "      <th>0</th>\n",
       "      <td>-0.450211</td>\n",
       "      <td>2.585797</td>\n",
       "      <td>Slight</td>\n",
       "      <td>0.226076</td>\n",
       "      <td>1.090620</td>\n",
       "      <td>2.463687</td>\n",
       "      <td>0.0</td>\n",
       "      <td>0.0</td>\n",
       "      <td>0.0</td>\n",
       "      <td>0.0</td>\n",
       "      <td>0.0</td>\n",
       "      <td>0.0</td>\n",
       "      <td>0.0</td>\n",
       "      <td>0.0</td>\n",
       "      <td>1.0</td>\n",
       "      <td>0.0</td>\n",
       "      <td>0.0</td>\n",
       "      <td>1.0</td>\n",
       "      <td>0.0</td>\n",
       "      <td>0.0</td>\n",
       "      <td>0.0</td>\n",
       "      <td>0.0</td>\n",
       "      <td>0.0</td>\n",
       "      <td>0.0</td>\n",
       "      <td>0.0</td>\n",
       "      <td>1.0</td>\n",
       "      <td>0.0</td>\n",
       "      <td>0.0</td>\n",
       "      <td>0.0</td>\n",
       "      <td>0.0</td>\n",
       "      <td>0.0</td>\n",
       "      <td>0.0</td>\n",
       "      <td>0.0</td>\n",
       "      <td>1.0</td>\n",
       "      <td>1.0</td>\n",
       "      <td>0.0</td>\n",
       "      <td>0.0</td>\n",
       "      <td>0.0</td>\n",
       "      <td>0.0</td>\n",
       "      <td>0.0</td>\n",
       "      <td>0.0</td>\n",
       "      <td>0.0</td>\n",
       "      <td>0.0</td>\n",
       "      <td>0.0</td>\n",
       "      <td>0.0</td>\n",
       "      <td>0.0</td>\n",
       "      <td>0.0</td>\n",
       "      <td>0.0</td>\n",
       "      <td>0.0</td>\n",
       "      <td>0.0</td>\n",
       "      <td>0.0</td>\n",
       "      <td>0.0</td>\n",
       "      <td>1.0</td>\n",
       "    </tr>\n",
       "    <tr>\n",
       "      <th>1</th>\n",
       "      <td>1.731058</td>\n",
       "      <td>0.282439</td>\n",
       "      <td>Slight</td>\n",
       "      <td>0.226076</td>\n",
       "      <td>1.090620</td>\n",
       "      <td>1.736604</td>\n",
       "      <td>0.0</td>\n",
       "      <td>0.0</td>\n",
       "      <td>0.0</td>\n",
       "      <td>0.0</td>\n",
       "      <td>1.0</td>\n",
       "      <td>0.0</td>\n",
       "      <td>0.0</td>\n",
       "      <td>1.0</td>\n",
       "      <td>0.0</td>\n",
       "      <td>0.0</td>\n",
       "      <td>0.0</td>\n",
       "      <td>0.0</td>\n",
       "      <td>0.0</td>\n",
       "      <td>0.0</td>\n",
       "      <td>0.0</td>\n",
       "      <td>0.0</td>\n",
       "      <td>1.0</td>\n",
       "      <td>0.0</td>\n",
       "      <td>0.0</td>\n",
       "      <td>1.0</td>\n",
       "      <td>0.0</td>\n",
       "      <td>0.0</td>\n",
       "      <td>0.0</td>\n",
       "      <td>0.0</td>\n",
       "      <td>0.0</td>\n",
       "      <td>0.0</td>\n",
       "      <td>0.0</td>\n",
       "      <td>1.0</td>\n",
       "      <td>1.0</td>\n",
       "      <td>0.0</td>\n",
       "      <td>0.0</td>\n",
       "      <td>0.0</td>\n",
       "      <td>0.0</td>\n",
       "      <td>0.0</td>\n",
       "      <td>0.0</td>\n",
       "      <td>0.0</td>\n",
       "      <td>0.0</td>\n",
       "      <td>0.0</td>\n",
       "      <td>0.0</td>\n",
       "      <td>1.0</td>\n",
       "      <td>0.0</td>\n",
       "      <td>0.0</td>\n",
       "      <td>1.0</td>\n",
       "      <td>0.0</td>\n",
       "      <td>0.0</td>\n",
       "      <td>0.0</td>\n",
       "      <td>0.0</td>\n",
       "    </tr>\n",
       "    <tr>\n",
       "      <th>2</th>\n",
       "      <td>-0.278252</td>\n",
       "      <td>1.125669</td>\n",
       "      <td>Slight</td>\n",
       "      <td>1.697788</td>\n",
       "      <td>-0.401056</td>\n",
       "      <td>-0.444644</td>\n",
       "      <td>0.0</td>\n",
       "      <td>0.0</td>\n",
       "      <td>0.0</td>\n",
       "      <td>0.0</td>\n",
       "      <td>1.0</td>\n",
       "      <td>0.0</td>\n",
       "      <td>0.0</td>\n",
       "      <td>1.0</td>\n",
       "      <td>0.0</td>\n",
       "      <td>0.0</td>\n",
       "      <td>0.0</td>\n",
       "      <td>1.0</td>\n",
       "      <td>0.0</td>\n",
       "      <td>0.0</td>\n",
       "      <td>0.0</td>\n",
       "      <td>0.0</td>\n",
       "      <td>0.0</td>\n",
       "      <td>0.0</td>\n",
       "      <td>0.0</td>\n",
       "      <td>1.0</td>\n",
       "      <td>0.0</td>\n",
       "      <td>0.0</td>\n",
       "      <td>0.0</td>\n",
       "      <td>0.0</td>\n",
       "      <td>0.0</td>\n",
       "      <td>0.0</td>\n",
       "      <td>0.0</td>\n",
       "      <td>1.0</td>\n",
       "      <td>1.0</td>\n",
       "      <td>0.0</td>\n",
       "      <td>0.0</td>\n",
       "      <td>0.0</td>\n",
       "      <td>0.0</td>\n",
       "      <td>0.0</td>\n",
       "      <td>0.0</td>\n",
       "      <td>0.0</td>\n",
       "      <td>0.0</td>\n",
       "      <td>0.0</td>\n",
       "      <td>0.0</td>\n",
       "      <td>0.0</td>\n",
       "      <td>0.0</td>\n",
       "      <td>0.0</td>\n",
       "      <td>0.0</td>\n",
       "      <td>0.0</td>\n",
       "      <td>0.0</td>\n",
       "      <td>0.0</td>\n",
       "      <td>1.0</td>\n",
       "    </tr>\n",
       "    <tr>\n",
       "      <th>3</th>\n",
       "      <td>-0.719027</td>\n",
       "      <td>0.192249</td>\n",
       "      <td>Serious</td>\n",
       "      <td>0.226076</td>\n",
       "      <td>-0.401056</td>\n",
       "      <td>-0.444644</td>\n",
       "      <td>0.0</td>\n",
       "      <td>0.0</td>\n",
       "      <td>0.0</td>\n",
       "      <td>0.0</td>\n",
       "      <td>1.0</td>\n",
       "      <td>0.0</td>\n",
       "      <td>0.0</td>\n",
       "      <td>1.0</td>\n",
       "      <td>0.0</td>\n",
       "      <td>0.0</td>\n",
       "      <td>0.0</td>\n",
       "      <td>0.0</td>\n",
       "      <td>0.0</td>\n",
       "      <td>1.0</td>\n",
       "      <td>0.0</td>\n",
       "      <td>0.0</td>\n",
       "      <td>0.0</td>\n",
       "      <td>0.0</td>\n",
       "      <td>0.0</td>\n",
       "      <td>1.0</td>\n",
       "      <td>0.0</td>\n",
       "      <td>0.0</td>\n",
       "      <td>0.0</td>\n",
       "      <td>0.0</td>\n",
       "      <td>0.0</td>\n",
       "      <td>0.0</td>\n",
       "      <td>0.0</td>\n",
       "      <td>1.0</td>\n",
       "      <td>1.0</td>\n",
       "      <td>0.0</td>\n",
       "      <td>0.0</td>\n",
       "      <td>0.0</td>\n",
       "      <td>0.0</td>\n",
       "      <td>0.0</td>\n",
       "      <td>0.0</td>\n",
       "      <td>0.0</td>\n",
       "      <td>0.0</td>\n",
       "      <td>0.0</td>\n",
       "      <td>0.0</td>\n",
       "      <td>0.0</td>\n",
       "      <td>0.0</td>\n",
       "      <td>1.0</td>\n",
       "      <td>0.0</td>\n",
       "      <td>0.0</td>\n",
       "      <td>0.0</td>\n",
       "      <td>0.0</td>\n",
       "      <td>0.0</td>\n",
       "    </tr>\n",
       "    <tr>\n",
       "      <th>4</th>\n",
       "      <td>-0.125606</td>\n",
       "      <td>-1.108035</td>\n",
       "      <td>Slight</td>\n",
       "      <td>-1.245637</td>\n",
       "      <td>1.090620</td>\n",
       "      <td>1.736604</td>\n",
       "      <td>0.0</td>\n",
       "      <td>1.0</td>\n",
       "      <td>0.0</td>\n",
       "      <td>0.0</td>\n",
       "      <td>0.0</td>\n",
       "      <td>0.0</td>\n",
       "      <td>0.0</td>\n",
       "      <td>1.0</td>\n",
       "      <td>0.0</td>\n",
       "      <td>0.0</td>\n",
       "      <td>0.0</td>\n",
       "      <td>0.0</td>\n",
       "      <td>0.0</td>\n",
       "      <td>0.0</td>\n",
       "      <td>0.0</td>\n",
       "      <td>0.0</td>\n",
       "      <td>1.0</td>\n",
       "      <td>0.0</td>\n",
       "      <td>0.0</td>\n",
       "      <td>1.0</td>\n",
       "      <td>0.0</td>\n",
       "      <td>0.0</td>\n",
       "      <td>0.0</td>\n",
       "      <td>0.0</td>\n",
       "      <td>0.0</td>\n",
       "      <td>0.0</td>\n",
       "      <td>1.0</td>\n",
       "      <td>0.0</td>\n",
       "      <td>1.0</td>\n",
       "      <td>0.0</td>\n",
       "      <td>0.0</td>\n",
       "      <td>0.0</td>\n",
       "      <td>0.0</td>\n",
       "      <td>0.0</td>\n",
       "      <td>0.0</td>\n",
       "      <td>0.0</td>\n",
       "      <td>0.0</td>\n",
       "      <td>0.0</td>\n",
       "      <td>0.0</td>\n",
       "      <td>0.0</td>\n",
       "      <td>0.0</td>\n",
       "      <td>0.0</td>\n",
       "      <td>0.0</td>\n",
       "      <td>0.0</td>\n",
       "      <td>1.0</td>\n",
       "      <td>0.0</td>\n",
       "      <td>0.0</td>\n",
       "    </tr>\n",
       "  </tbody>\n",
       "</table>\n",
       "</div>"
      ],
      "text/plain": [
       "   longitude  latitude accident_severity  number_of_vehicles  \\\n",
       "0  -0.450211  2.585797            Slight            0.226076   \n",
       "1   1.731058  0.282439            Slight            0.226076   \n",
       "2  -0.278252  1.125669            Slight            1.697788   \n",
       "3  -0.719027  0.192249           Serious            0.226076   \n",
       "4  -0.125606 -1.108035            Slight           -1.245637   \n",
       "\n",
       "   number_of_casualties  speed_limit  first_road_class_A(M)  \\\n",
       "0              1.090620     2.463687                    0.0   \n",
       "1              1.090620     1.736604                    0.0   \n",
       "2             -0.401056    -0.444644                    0.0   \n",
       "3             -0.401056    -0.444644                    0.0   \n",
       "4              1.090620     1.736604                    0.0   \n",
       "\n",
       "   first_road_class_B  first_road_class_C  first_road_class_Motorway  \\\n",
       "0                 0.0                 0.0                        0.0   \n",
       "1                 0.0                 0.0                        0.0   \n",
       "2                 0.0                 0.0                        0.0   \n",
       "3                 0.0                 0.0                        0.0   \n",
       "4                 1.0                 0.0                        0.0   \n",
       "\n",
       "   first_road_class_Unclassified  road_type_One way street  \\\n",
       "0                            0.0                       0.0   \n",
       "1                            1.0                       0.0   \n",
       "2                            1.0                       0.0   \n",
       "3                            1.0                       0.0   \n",
       "4                            0.0                       0.0   \n",
       "\n",
       "   road_type_Roundabout  road_type_Single Carriageway  road_type_Sliproad  \\\n",
       "0                   0.0                           0.0                 1.0   \n",
       "1                   0.0                           1.0                 0.0   \n",
       "2                   0.0                           1.0                 0.0   \n",
       "3                   0.0                           1.0                 0.0   \n",
       "4                   0.0                           1.0                 0.0   \n",
       "\n",
       "   junction_detail_Mini-roundabout  \\\n",
       "0                              0.0   \n",
       "1                              0.0   \n",
       "2                              0.0   \n",
       "3                              0.0   \n",
       "4                              0.0   \n",
       "\n",
       "   junction_detail_More than 4 arms (not roundabout)  \\\n",
       "0                                                0.0   \n",
       "1                                                0.0   \n",
       "2                                                0.0   \n",
       "3                                                0.0   \n",
       "4                                                0.0   \n",
       "\n",
       "   junction_detail_Not at junction or within 20 metres  \\\n",
       "0                                                  1.0   \n",
       "1                                                  0.0   \n",
       "2                                                  1.0   \n",
       "3                                                  0.0   \n",
       "4                                                  0.0   \n",
       "\n",
       "   junction_detail_Other junction  junction_detail_Private drive or entrance  \\\n",
       "0                             0.0                                        0.0   \n",
       "1                             0.0                                        0.0   \n",
       "2                             0.0                                        0.0   \n",
       "3                             0.0                                        1.0   \n",
       "4                             0.0                                        0.0   \n",
       "\n",
       "   junction_detail_Roundabout  junction_detail_Slip road  \\\n",
       "0                         0.0                        0.0   \n",
       "1                         0.0                        0.0   \n",
       "2                         0.0                        0.0   \n",
       "3                         0.0                        0.0   \n",
       "4                         0.0                        0.0   \n",
       "\n",
       "   junction_detail_T or staggered junction  \\\n",
       "0                                      0.0   \n",
       "1                                      1.0   \n",
       "2                                      0.0   \n",
       "3                                      0.0   \n",
       "4                                      1.0   \n",
       "\n",
       "   junction_detail_unknown (self reported)  \\\n",
       "0                                      0.0   \n",
       "1                                      0.0   \n",
       "2                                      0.0   \n",
       "3                                      0.0   \n",
       "4                                      0.0   \n",
       "\n",
       "   pedestrian_crossing_physical_facilities_Footbridge or subway  \\\n",
       "0                                                           0.0   \n",
       "1                                                           0.0   \n",
       "2                                                           0.0   \n",
       "3                                                           0.0   \n",
       "4                                                           0.0   \n",
       "\n",
       "   pedestrian_crossing_physical_facilities_No physical crossing facilities within 50 metres  \\\n",
       "0                                                                                       1.0   \n",
       "1                                                                                       1.0   \n",
       "2                                                                                       1.0   \n",
       "3                                                                                       1.0   \n",
       "4                                                                                       1.0   \n",
       "\n",
       "   pedestrian_crossing_physical_facilities_Pedestrian phase at traffic signal junction  \\\n",
       "0                                                                                  0.0   \n",
       "1                                                                                  0.0   \n",
       "2                                                                                  0.0   \n",
       "3                                                                                  0.0   \n",
       "4                                                                                  0.0   \n",
       "\n",
       "   pedestrian_crossing_physical_facilities_Pelican, puffin, toucan or similar non-junction pedestrian light crossing  \\\n",
       "0                                                                                                  0.0                 \n",
       "1                                                                                                  0.0                 \n",
       "2                                                                                                  0.0                 \n",
       "3                                                                                                  0.0                 \n",
       "4                                                                                                  0.0                 \n",
       "\n",
       "   pedestrian_crossing_physical_facilities_Zebra  \\\n",
       "0                                            0.0   \n",
       "1                                            0.0   \n",
       "2                                            0.0   \n",
       "3                                            0.0   \n",
       "4                                            0.0   \n",
       "\n",
       "   pedestrian_crossing_physical_facilities_unknown (self reported)  \\\n",
       "0                                                              0.0   \n",
       "1                                                              0.0   \n",
       "2                                                              0.0   \n",
       "3                                                              0.0   \n",
       "4                                                              0.0   \n",
       "\n",
       "   light_conditions_Darkness - lights lit  \\\n",
       "0                                     0.0   \n",
       "1                                     0.0   \n",
       "2                                     0.0   \n",
       "3                                     0.0   \n",
       "4                                     0.0   \n",
       "\n",
       "   light_conditions_Darkness - lights unlit  \\\n",
       "0                                       0.0   \n",
       "1                                       0.0   \n",
       "2                                       0.0   \n",
       "3                                       0.0   \n",
       "4                                       0.0   \n",
       "\n",
       "   light_conditions_Darkness - no lighting  light_conditions_Daylight  \\\n",
       "0                                      0.0                        1.0   \n",
       "1                                      0.0                        1.0   \n",
       "2                                      0.0                        1.0   \n",
       "3                                      0.0                        1.0   \n",
       "4                                      1.0                        0.0   \n",
       "\n",
       "   weather_conditions_Fine no high winds  weather_conditions_Fog or mist  \\\n",
       "0                                    1.0                             0.0   \n",
       "1                                    1.0                             0.0   \n",
       "2                                    1.0                             0.0   \n",
       "3                                    1.0                             0.0   \n",
       "4                                    1.0                             0.0   \n",
       "\n",
       "   weather_conditions_Other  weather_conditions_Raining + high winds  \\\n",
       "0                       0.0                                      0.0   \n",
       "1                       0.0                                      0.0   \n",
       "2                       0.0                                      0.0   \n",
       "3                       0.0                                      0.0   \n",
       "4                       0.0                                      0.0   \n",
       "\n",
       "   weather_conditions_Raining no high winds  \\\n",
       "0                                       0.0   \n",
       "1                                       0.0   \n",
       "2                                       0.0   \n",
       "3                                       0.0   \n",
       "4                                       0.0   \n",
       "\n",
       "   weather_conditions_Snowing + high winds  \\\n",
       "0                                      0.0   \n",
       "1                                      0.0   \n",
       "2                                      0.0   \n",
       "3                                      0.0   \n",
       "4                                      0.0   \n",
       "\n",
       "   weather_conditions_Snowing no high winds  weather_conditions_Unknown  \\\n",
       "0                                       0.0                         0.0   \n",
       "1                                       0.0                         0.0   \n",
       "2                                       0.0                         0.0   \n",
       "3                                       0.0                         0.0   \n",
       "4                                       0.0                         0.0   \n",
       "\n",
       "   road_surface_conditions_Flood over 3cm. deep  \\\n",
       "0                                           0.0   \n",
       "1                                           0.0   \n",
       "2                                           0.0   \n",
       "3                                           0.0   \n",
       "4                                           0.0   \n",
       "\n",
       "   road_surface_conditions_Frost or ice  road_surface_conditions_Snow  \\\n",
       "0                                   0.0                           0.0   \n",
       "1                                   0.0                           0.0   \n",
       "2                                   0.0                           0.0   \n",
       "3                                   0.0                           0.0   \n",
       "4                                   0.0                           0.0   \n",
       "\n",
       "   road_surface_conditions_Wet or damp  \\\n",
       "0                                  0.0   \n",
       "1                                  1.0   \n",
       "2                                  0.0   \n",
       "3                                  0.0   \n",
       "4                                  0.0   \n",
       "\n",
       "   road_surface_conditions_unknown (self reported)  day_of_week_Monday  \\\n",
       "0                                              0.0                 0.0   \n",
       "1                                              0.0                 0.0   \n",
       "2                                              0.0                 0.0   \n",
       "3                                              0.0                 1.0   \n",
       "4                                              0.0                 0.0   \n",
       "\n",
       "   day_of_week_Saturday  day_of_week_Sunday  day_of_week_Thursday  \\\n",
       "0                   0.0                 0.0                   0.0   \n",
       "1                   1.0                 0.0                   0.0   \n",
       "2                   0.0                 0.0                   0.0   \n",
       "3                   0.0                 0.0                   0.0   \n",
       "4                   0.0                 0.0                   1.0   \n",
       "\n",
       "   day_of_week_Tuesday  day_of_week_Wednesday  \n",
       "0                  0.0                    1.0  \n",
       "1                  0.0                    0.0  \n",
       "2                  0.0                    1.0  \n",
       "3                  0.0                    0.0  \n",
       "4                  0.0                    0.0  "
      ]
     },
     "execution_count": 244,
     "metadata": {},
     "output_type": "execute_result"
    }
   ],
   "source": [
    "train_set.head()"
   ]
  },
  {
   "cell_type": "markdown",
   "id": "98477df1",
   "metadata": {},
   "source": [
    "## 1. Baseline Model"
   ]
  },
  {
   "cell_type": "code",
   "execution_count": 245,
   "id": "f599a832",
   "metadata": {},
   "outputs": [
    {
     "data": {
      "text/plain": [
       "Slight     51761\n",
       "Serious    12901\n",
       "Fatal        944\n",
       "Name: accident_severity, dtype: int64"
      ]
     },
     "execution_count": 245,
     "metadata": {},
     "output_type": "execute_result"
    }
   ],
   "source": [
    "train_set[\"accident_severity\"].value_counts()"
   ]
  },
  {
   "cell_type": "code",
   "execution_count": 246,
   "id": "a4435b59",
   "metadata": {},
   "outputs": [
    {
     "data": {
      "text/plain": [
       "(65606, 53)"
      ]
     },
     "execution_count": 246,
     "metadata": {},
     "output_type": "execute_result"
    }
   ],
   "source": [
    "train_set.shape"
   ]
  },
  {
   "cell_type": "markdown",
   "id": "c9b58071",
   "metadata": {},
   "source": [
    "### Checking the Precision, Recall and F score of the baseline Model\n",
    "\n",
    "The average F-score of the model is 29 % We used Macro-averagegin for each class i.e. Slight, Fatal and serious and than averaged it to calculate the basline avaerage F-scare, Precision and recall.Considering 29% as the benchmark accuracy we  run  other Classification Models and compare if there is an improvement in the accuracy or Not"
   ]
  },
  {
   "cell_type": "code",
   "execution_count": 248,
   "id": "a6f4ebf0",
   "metadata": {},
   "outputs": [],
   "source": [
    "n_slight = train_set[\"accident_severity\"].value_counts()[\"Slight\"]\n",
    "n_instances = train_set.shape[0]"
   ]
  },
  {
   "cell_type": "code",
   "execution_count": 266,
   "id": "08c9e972",
   "metadata": {},
   "outputs": [
    {
     "name": "stdout",
     "output_type": "stream",
     "text": [
      "Precision: 0.26299\n",
      "Recall: 0.33333\n",
      "F-score: 0.29401\n"
     ]
    }
   ],
   "source": [
    "# For the \"Slight\" label, the accuracy measures will be:\n",
    "Slight_precision = n_slight/n_instances\n",
    "Slight_recall = n_slight/n_slight\n",
    "Slight_fscore = 2/(1/Slight_precision + 1/Slight_recall)\n",
    "\n",
    "# For the \"Serious\" label, it will be:\n",
    "Serious_precision = 0.0\n",
    "Serious_recall = 0.0\n",
    "Serious_fscore = 0.0\n",
    "\n",
    "# for the Fatal label it will be \n",
    "\n",
    "fatal_precision = 0.0\n",
    "fatal_recall = 0.0\n",
    "fatal_fscore = 0.0\n",
    "# The averages of the two classes, i.e. the eventual baseline scores:\n",
    "p = (Slight_precision+Serious_precision+fatal_precision)/3\n",
    "r = (Slight_recall+Serious_recall+fatal_recall)/3\n",
    "f = (Slight_fscore+Serious_fscore+fatal_fscore)/3\n",
    "\n",
    "print(f\"Precision: {p:.5}\")\n",
    "print(f\"Recall: {r:.5}\")\n",
    "print(f\"F-score: {f:.5}\")"
   ]
  },
  {
   "cell_type": "markdown",
   "id": "dcd94d05",
   "metadata": {},
   "source": [
    "### Splitting the Train and Test data into Target Variable and Predictors\n",
    "\n",
    "We create Xtrain & ytrain as the target variable and predictor for the train data and similary we create \n",
    "Xtest & yest as the target variable and preditor for the test data"
   ]
  },
  {
   "cell_type": "code",
   "execution_count": 255,
   "id": "49d23791",
   "metadata": {},
   "outputs": [],
   "source": [
    "Xtrain = train_set.drop(\"accident_severity\", axis=1)\n",
    "ytrain = train_set[\"accident_severity\"].copy()\n",
    "\n",
    "Xtest = test_set.drop(\"accident_severity\", axis=1)\n",
    "ytest = test_set[\"accident_severity\"].copy()"
   ]
  },
  {
   "cell_type": "markdown",
   "id": "66855ce3",
   "metadata": {},
   "source": [
    "## 2. Decision Tree classifier\n",
    "\n",
    "We build the model on Decision Tree Classifier and check the accuracy of the model. The accuracy of the model is 82% on the training data which better than the baseline model"
   ]
  },
  {
   "cell_type": "code",
   "execution_count": 269,
   "id": "3f2bb214",
   "metadata": {},
   "outputs": [
    {
     "data": {
      "text/plain": [
       "DecisionTreeClassifier(max_depth=15)"
      ]
     },
     "execution_count": 269,
     "metadata": {},
     "output_type": "execute_result"
    }
   ],
   "source": [
    "from sklearn.tree import DecisionTreeClassifier\n",
    "from sklearn.tree import plot_tree\n",
    "dtree=DecisionTreeClassifier(max_depth=15)\n",
    "model=dtree.fit(Xtrain,ytrain)\n",
    "model"
   ]
  },
  {
   "cell_type": "code",
   "execution_count": 270,
   "id": "832bf71d",
   "metadata": {},
   "outputs": [],
   "source": [
    "y_pred_train=dtree.predict(Xtrain)"
   ]
  },
  {
   "cell_type": "markdown",
   "id": "2aff4f45",
   "metadata": {},
   "source": [
    "### 1.1 Precison,Recall & F-score for the training data"
   ]
  },
  {
   "cell_type": "code",
   "execution_count": 271,
   "id": "53a161a2",
   "metadata": {},
   "outputs": [
    {
     "name": "stdout",
     "output_type": "stream",
     "text": [
      "0.8651559781940561 0.48652954808065935 0.5481066967754608\n"
     ]
    }
   ],
   "source": [
    "from sklearn.metrics import precision_recall_fscore_support\n",
    "p,r,f,s=precision_recall_fscore_support(ytrain,y_pred_train,average=\"macro\")\n",
    "print(p,r,f) "
   ]
  },
  {
   "cell_type": "code",
   "execution_count": 272,
   "id": "fb8fe83d",
   "metadata": {},
   "outputs": [],
   "source": [
    "y_hat=model.predict(Xtest)"
   ]
  },
  {
   "cell_type": "markdown",
   "id": "ac8e3382",
   "metadata": {},
   "source": [
    "###  1.2 Precision, Recall & F-score for the test data\n",
    "\n",
    "F-score on the test data for decision tree classifier is 34% "
   ]
  },
  {
   "cell_type": "code",
   "execution_count": 274,
   "id": "f096be7e",
   "metadata": {},
   "outputs": [
    {
     "name": "stdout",
     "output_type": "stream",
     "text": [
      "0.3770316542896648 0.34679989010640194 0.3364265066627459\n"
     ]
    }
   ],
   "source": [
    "from sklearn.metrics import precision_recall_fscore_support\n",
    "p,r,f,s=precision_recall_fscore_support(ytest,y_hat,average=\"macro\")\n",
    "print(p,r,f)"
   ]
  },
  {
   "cell_type": "markdown",
   "id": "db3faadf",
   "metadata": {},
   "source": [
    "### 1.3 Confusion Matrix for Test Data -Decision Tree Classifier\n",
    "\n",
    "We can observe that accuracy on the test data is 76%. But is due to the prediction power of the majority class. If we check the f-score for the fatal and slight it is very low in comparision to the Slight Class. This shows us how the class inbalance is effecting the F-score of the minority class."
   ]
  },
  {
   "cell_type": "code",
   "execution_count": 275,
   "id": "8150df88",
   "metadata": {},
   "outputs": [
    {
     "name": "stdout",
     "output_type": "stream",
     "text": [
      "[[    3    23   210]\n",
      " [   20   254  2937]\n",
      " [   30   633 12232]]\n",
      "              precision    recall  f1-score   support\n",
      "\n",
      "       Fatal       0.06      0.01      0.02       236\n",
      "     Serious       0.28      0.08      0.12      3211\n",
      "      Slight       0.80      0.95      0.87     12895\n",
      "\n",
      "    accuracy                           0.76     16342\n",
      "   macro avg       0.38      0.35      0.34     16342\n",
      "weighted avg       0.68      0.76      0.71     16342\n",
      "\n"
     ]
    }
   ],
   "source": [
    "from sklearn.metrics import classification_report, confusion_matrix\n",
    "print(confusion_matrix(ytest, y_hat))\n",
    "print(classification_report(ytest, y_hat))"
   ]
  },
  {
   "cell_type": "markdown",
   "id": "473d346e",
   "metadata": {},
   "source": [
    "## 2. Random Forest\n",
    "\n",
    "### 2.1 Building the Model\n",
    "\n",
    "We build the random forest to check if we can get better result than the Decision Tree Classifer or Not.\n",
    "Max depth deifned are 5, 10 and 15 and calculate the best score of the model on the training dataset.\n",
    "\n",
    "Best score of the model is 30 % which is very low in comparision to the decision tree classifier"
   ]
  },
  {
   "cell_type": "code",
   "execution_count": 163,
   "id": "25e33b9b",
   "metadata": {},
   "outputs": [
    {
     "data": {
      "text/plain": [
       "GridSearchCV(cv=10, estimator=RandomForestClassifier(random_state=7),\n",
       "             param_grid=[{'max_depth': [5, 10, 15],\n",
       "                          'n_estimators': [100, 200, 500]}],\n",
       "             return_train_score=True, scoring='f1_macro')"
      ]
     },
     "execution_count": 163,
     "metadata": {},
     "output_type": "execute_result"
    }
   ],
   "source": [
    "from sklearn.model_selection import GridSearchCV\n",
    "from sklearn.ensemble import RandomForestClassifier\n",
    "\n",
    "# hyperparameters \n",
    "param_grid = [\n",
    "    {'n_estimators': [100,200,500],\n",
    "     'max_depth': [5,10,15]},\n",
    "]\n",
    "\n",
    "forest = RandomForestClassifier(random_state=7)\n",
    "\n",
    "rf_grid_search = GridSearchCV(forest, param_grid, cv=10, \n",
    "                              scoring='f1_macro',\n",
    "                              return_train_score=True)\n",
    "\n",
    "rf_grid_search.fit(Xtrain, ytrain)"
   ]
  },
  {
   "cell_type": "code",
   "execution_count": 166,
   "id": "f487dff6",
   "metadata": {},
   "outputs": [
    {
     "data": {
      "text/plain": [
       "RandomForestClassifier(max_depth=15, random_state=7)"
      ]
     },
     "execution_count": 166,
     "metadata": {},
     "output_type": "execute_result"
    }
   ],
   "source": [
    "rf_grid_search.best_estimator_"
   ]
  },
  {
   "cell_type": "markdown",
   "id": "9c1e6b54",
   "metadata": {},
   "source": [
    "### Best Score on training data- Random Forest"
   ]
  },
  {
   "cell_type": "code",
   "execution_count": 167,
   "id": "32130026",
   "metadata": {},
   "outputs": [
    {
     "data": {
      "text/plain": [
       "0.29736483356914245"
      ]
     },
     "execution_count": 167,
     "metadata": {},
     "output_type": "execute_result"
    }
   ],
   "source": [
    "rf_grid_search.best_score_"
   ]
  },
  {
   "cell_type": "markdown",
   "id": "221f467c",
   "metadata": {},
   "source": [
    "Best score for the random forest is even lower than the baseline model"
   ]
  },
  {
   "cell_type": "markdown",
   "id": "7212035d",
   "metadata": {},
   "source": [
    "## Oversampling\n",
    "\n",
    "We used oversampling to overcome the issues of the imbalanced class in the target variable.It is required to do so to check if  we can improve the accuracy of the model.Here we balalnce the minority class by creating the same instances as we have for the majority class.Majority class is slight and minority classes are Serious and Fatal\n",
    "\n",
    "After doing oversamling we have the same value count for all the three classes to check if we have same distribution of class in the traget variabl\n",
    "\n",
    "Counter library is used to perform Oversampling instead of SMOTE since we have three classess in the Target variable \n",
    " "
   ]
  },
  {
   "cell_type": "code",
   "execution_count": 168,
   "id": "f161be80",
   "metadata": {},
   "outputs": [
    {
     "name": "stdout",
     "output_type": "stream",
     "text": [
      "[('Fatal', 51761), ('Serious', 51761), ('Slight', 51761)] (155283,)\n"
     ]
    }
   ],
   "source": [
    "from collections import Counter\n",
    "x=train_set\n",
    "y=train_set[\"accident_severity\"]\n",
    "from imblearn import over_sampling\n",
    "from imblearn.over_sampling import RandomOverSampler\n",
    "ros=RandomOverSampler(random_state=0)\n",
    "x_resampled,y_resampled=ros.fit_resample(x,y)\n",
    "print(sorted(Counter(y_resampled).items()),y_resampled.shape)"
   ]
  },
  {
   "cell_type": "code",
   "execution_count": 169,
   "id": "dfa3f600",
   "metadata": {},
   "outputs": [
    {
     "data": {
      "text/plain": [
       "<AxesSubplot:>"
      ]
     },
     "execution_count": 169,
     "metadata": {},
     "output_type": "execute_result"
    },
    {
     "data": {
      "image/png": "[encoded data removed]",
      "text/plain": [
       "<Figure size 576x360 with 1 Axes>"
      ]
     },
     "metadata": {
      "needs_background": "light"
     },
     "output_type": "display_data"
    }
   ],
   "source": [
    "train_set=x_resampled\n",
    "pd.DataFrame(train_set['accident_severity'].value_counts()).plot(kind=\"bar\",figsize=(8,5),color=\"b\")"
   ]
  },
  {
   "cell_type": "code",
   "execution_count": 170,
   "id": "a3c17bea",
   "metadata": {},
   "outputs": [
    {
     "data": {
      "text/plain": [
       "Fatal      51761\n",
       "Serious    51761\n",
       "Slight     51761\n",
       "Name: accident_severity, dtype: int64"
      ]
     },
     "execution_count": 170,
     "metadata": {},
     "output_type": "execute_result"
    }
   ],
   "source": [
    "train_set[\"accident_severity\"].value_counts()"
   ]
  },
  {
   "cell_type": "markdown",
   "id": "a7d2a64a",
   "metadata": {},
   "source": [
    "### Spliting Train and Test into Target and Predictor\n",
    "\n",
    "After oversampling we need to again split the training and testing data into Tragets and predictors.After splitting we can build different classification model\n"
   ]
  },
  {
   "cell_type": "code",
   "execution_count": 171,
   "id": "151e1348",
   "metadata": {},
   "outputs": [],
   "source": [
    "Xtrain = train_set.drop(\"accident_severity\", axis=1)\n",
    "ytrain = train_set[\"accident_severity\"].copy()\n",
    "\n",
    "Xtest = test_set.drop(\"accident_severity\", axis=1)\n",
    "ytest = test_set[\"accident_severity\"].copy()"
   ]
  },
  {
   "cell_type": "code",
   "execution_count": 172,
   "id": "7f3badb8",
   "metadata": {},
   "outputs": [
    {
     "data": {
      "text/plain": [
       "Fatal      51761\n",
       "Serious    51761\n",
       "Slight     51761\n",
       "Name: accident_severity, dtype: int64"
      ]
     },
     "execution_count": 172,
     "metadata": {},
     "output_type": "execute_result"
    }
   ],
   "source": [
    "# value count of the target variable\n",
    "ytrain.value_counts()"
   ]
  },
  {
   "cell_type": "markdown",
   "id": "e31aa6e4",
   "metadata": {},
   "source": [
    "# Building Models After OverSampling"
   ]
  },
  {
   "cell_type": "markdown",
   "id": "4a9ad851",
   "metadata": {},
   "source": [
    "## 3. Decision Tree Classifier\n",
    "\n",
    "After Oversampling we can again build the Decision Tree Classifier to check if their is any improvement in the F-score for the minority classes i.e. for Fatal and Slight\n",
    "\n",
    "Average F-score for the training model is 71% wheras for the accuracy is 56% which is lower than the previous Decision Tree Classifier model value, but if we check the F-score for the Fatal and Slight the values have increased slightly in comparison to the to previous Decision Tree Classifier."
   ]
  },
  {
   "cell_type": "code",
   "execution_count": 276,
   "id": "a4b2d5cb",
   "metadata": {},
   "outputs": [
    {
     "data": {
      "text/plain": [
       "DecisionTreeClassifier(max_depth=15)"
      ]
     },
     "execution_count": 276,
     "metadata": {},
     "output_type": "execute_result"
    }
   ],
   "source": [
    "from sklearn.tree import DecisionTreeClassifier\n",
    "from sklearn.tree import plot_tree\n",
    "dtree=DecisionTreeClassifier(max_depth=15)\n",
    "model=dtree.fit(Xtrain,ytrain)\n",
    "model"
   ]
  },
  {
   "cell_type": "code",
   "execution_count": 277,
   "id": "0b0172f5",
   "metadata": {},
   "outputs": [],
   "source": [
    "y_pred_train=dtree.predict(Xtrain)"
   ]
  },
  {
   "cell_type": "code",
   "execution_count": 278,
   "id": "a979c9f6",
   "metadata": {},
   "outputs": [],
   "source": [
    "y_hat=model.predict(Xtest)"
   ]
  },
  {
   "cell_type": "markdown",
   "id": "4455f31e",
   "metadata": {},
   "source": [
    "### 3.1 Precision, Recall, F-score for the Train Data  After OverSampling"
   ]
  },
  {
   "cell_type": "code",
   "execution_count": 279,
   "id": "896df92c",
   "metadata": {},
   "outputs": [
    {
     "name": "stdout",
     "output_type": "stream",
     "text": [
      "0.86487887546647 0.48645855293503165 0.5480034011940046\n"
     ]
    }
   ],
   "source": [
    "from sklearn.metrics import precision_recall_fscore_support\n",
    "p,r,f,s=precision_recall_fscore_support(ytrain,y_pred_train,average=\"macro\")\n",
    "print(p,r,f)"
   ]
  },
  {
   "cell_type": "markdown",
   "id": "fa1e347a",
   "metadata": {},
   "source": [
    "### 3.2 Precision, Recall, F-Score for the Test Data After OverSampling"
   ]
  },
  {
   "cell_type": "code",
   "execution_count": 280,
   "id": "14aa406a",
   "metadata": {},
   "outputs": [
    {
     "name": "stdout",
     "output_type": "stream",
     "text": [
      "[[    4    23   209]\n",
      " [   26   246  2939]\n",
      " [   36   653 12206]]\n",
      "              precision    recall  f1-score   support\n",
      "\n",
      "       Fatal       0.06      0.02      0.03       236\n",
      "     Serious       0.27      0.08      0.12      3211\n",
      "      Slight       0.79      0.95      0.86     12895\n",
      "\n",
      "    accuracy                           0.76     16342\n",
      "   macro avg       0.37      0.35      0.34     16342\n",
      "weighted avg       0.68      0.76      0.71     16342\n",
      "\n"
     ]
    }
   ],
   "source": [
    "from sklearn.metrics import classification_report, confusion_matrix\n",
    "print(confusion_matrix(ytest, y_hat))\n",
    "print(classification_report(ytest, y_hat))"
   ]
  },
  {
   "cell_type": "markdown",
   "id": "7026af13",
   "metadata": {},
   "source": [
    "## 4. Random Forest After Oversampling\n",
    "\n",
    "Best score for training set after oversampling is 80 % which is significantly improved from all the previous model. Score comparision with the Cross validation score is also almst similar."
   ]
  },
  {
   "cell_type": "markdown",
   "id": "a70bee9d",
   "metadata": {},
   "source": [
    "### 4.1 Building the Model"
   ]
  },
  {
   "cell_type": "code",
   "execution_count": 178,
   "id": "7516d85c",
   "metadata": {},
   "outputs": [],
   "source": [
    "import time"
   ]
  },
  {
   "cell_type": "code",
   "execution_count": 179,
   "id": "e0eec773",
   "metadata": {},
   "outputs": [
    {
     "name": "stdout",
     "output_type": "stream",
     "text": [
      "Took 3932.4686472415924 seconds\n"
     ]
    }
   ],
   "source": [
    "from sklearn.model_selection import GridSearchCV\n",
    "from sklearn.ensemble import RandomForestClassifier\n",
    "\n",
    "rf = RandomForestClassifier(random_state=7)\n",
    "\n",
    "# specify the hyperparameters and their values\n",
    "param_grid = [\n",
    "    {'n_estimators': [10,100,200,1000],\n",
    "     'max_depth': [5,10,15],\n",
    "    'min_samples_split':[5,10]}\n",
    "]\n",
    "\n",
    "os_grid_search = GridSearchCV(rf, param_grid, cv=5,\n",
    "                           scoring='f1_macro', \n",
    "                           return_train_score=True) \n",
    "\n",
    "start = time.time()\n",
    "os_grid_search.fit(Xtrain, ytrain)\n",
    "end = time.time() - start\n",
    "print(f\"Took {end} seconds\")"
   ]
  },
  {
   "cell_type": "code",
   "execution_count": 180,
   "id": "9f132f47",
   "metadata": {},
   "outputs": [
    {
     "data": {
      "text/plain": [
       "RandomForestClassifier(max_depth=15, min_samples_split=5, n_estimators=1000,\n",
       "                       random_state=7)"
      ]
     },
     "execution_count": 180,
     "metadata": {},
     "output_type": "execute_result"
    }
   ],
   "source": [
    "os_grid_search.best_estimator_"
   ]
  },
  {
   "cell_type": "markdown",
   "id": "4b24443a",
   "metadata": {},
   "source": [
    "### 4.2 Accuracy Score on Train Data"
   ]
  },
  {
   "cell_type": "code",
   "execution_count": 181,
   "id": "c97a8b65",
   "metadata": {},
   "outputs": [
    {
     "data": {
      "text/plain": [
       "0.8048621413663172"
      ]
     },
     "execution_count": 181,
     "metadata": {},
     "output_type": "execute_result"
    }
   ],
   "source": [
    "Randomforest=os_grid_search.best_score_\n",
    "Randomforest"
   ]
  },
  {
   "cell_type": "code",
   "execution_count": 258,
   "id": "7ef29b15",
   "metadata": {},
   "outputs": [
    {
     "name": "stdout",
     "output_type": "stream",
     "text": [
      "0.38237468400012514 0.4301243962859189 0.38344402529377053\n"
     ]
    }
   ],
   "source": [
    "yhat=os_grid_search.predict(Xtest)\n",
    "p, r, f,s = precision_recall_fscore_support(ytest, yhat, average=\"macro\")\n",
    "\n",
    "print(p,r,f) "
   ]
  },
  {
   "cell_type": "markdown",
   "id": "9544abc4",
   "metadata": {},
   "source": [
    "### 4.3 Score Comparison with Cross validation Score"
   ]
  },
  {
   "cell_type": "code",
   "execution_count": 201,
   "id": "3c382b64",
   "metadata": {},
   "outputs": [
    {
     "data": {
      "text/html": [
       "<div>\n",
       "<style scoped>\n",
       "    .dataframe tbody tr th:only-of-type {\n",
       "        vertical-align: middle;\n",
       "    }\n",
       "\n",
       "    .dataframe tbody tr th {\n",
       "        vertical-align: top;\n",
       "    }\n",
       "\n",
       "    .dataframe thead th {\n",
       "        text-align: right;\n",
       "    }\n",
       "</style>\n",
       "<table border=\"1\" class=\"dataframe\">\n",
       "  <thead>\n",
       "    <tr style=\"text-align: right;\">\n",
       "      <th></th>\n",
       "      <th>mean_train_score</th>\n",
       "      <th>mean_test_score</th>\n",
       "      <th>params</th>\n",
       "      <th>diff, %</th>\n",
       "    </tr>\n",
       "  </thead>\n",
       "  <tbody>\n",
       "    <tr>\n",
       "      <th>19</th>\n",
       "      <td>0.855017</td>\n",
       "      <td>0.804862</td>\n",
       "      <td>{'max_depth': 15, 'min_samples_split': 5, 'n_estimators': 1000}</td>\n",
       "      <td>5.865977</td>\n",
       "    </tr>\n",
       "    <tr>\n",
       "      <th>18</th>\n",
       "      <td>0.855109</td>\n",
       "      <td>0.804847</td>\n",
       "      <td>{'max_depth': 15, 'min_samples_split': 5, 'n_estimators': 200}</td>\n",
       "      <td>5.877837</td>\n",
       "    </tr>\n",
       "    <tr>\n",
       "      <th>17</th>\n",
       "      <td>0.853530</td>\n",
       "      <td>0.803515</td>\n",
       "      <td>{'max_depth': 15, 'min_samples_split': 5, 'n_estimators': 100}</td>\n",
       "      <td>5.859747</td>\n",
       "    </tr>\n",
       "    <tr>\n",
       "      <th>22</th>\n",
       "      <td>0.846342</td>\n",
       "      <td>0.797325</td>\n",
       "      <td>{'max_depth': 15, 'min_samples_split': 10, 'n_estimators': 200}</td>\n",
       "      <td>5.791646</td>\n",
       "    </tr>\n",
       "    <tr>\n",
       "      <th>23</th>\n",
       "      <td>0.846941</td>\n",
       "      <td>0.797179</td>\n",
       "      <td>{'max_depth': 15, 'min_samples_split': 10, 'n_estimators': 1000}</td>\n",
       "      <td>5.875576</td>\n",
       "    </tr>\n",
       "    <tr>\n",
       "      <th>21</th>\n",
       "      <td>0.844716</td>\n",
       "      <td>0.795572</td>\n",
       "      <td>{'max_depth': 15, 'min_samples_split': 10, 'n_estimators': 100}</td>\n",
       "      <td>5.817816</td>\n",
       "    </tr>\n",
       "    <tr>\n",
       "      <th>16</th>\n",
       "      <td>0.822363</td>\n",
       "      <td>0.774400</td>\n",
       "      <td>{'max_depth': 15, 'min_samples_split': 5, 'n_estimators': 10}</td>\n",
       "      <td>5.832294</td>\n",
       "    </tr>\n",
       "    <tr>\n",
       "      <th>20</th>\n",
       "      <td>0.808553</td>\n",
       "      <td>0.762944</td>\n",
       "      <td>{'max_depth': 15, 'min_samples_split': 10, 'n_estimators': 10}</td>\n",
       "      <td>5.640907</td>\n",
       "    </tr>\n",
       "    <tr>\n",
       "      <th>11</th>\n",
       "      <td>0.625166</td>\n",
       "      <td>0.611171</td>\n",
       "      <td>{'max_depth': 10, 'min_samples_split': 5, 'n_estimators': 1000}</td>\n",
       "      <td>2.238579</td>\n",
       "    </tr>\n",
       "    <tr>\n",
       "      <th>14</th>\n",
       "      <td>0.624826</td>\n",
       "      <td>0.610662</td>\n",
       "      <td>{'max_depth': 10, 'min_samples_split': 10, 'n_estimators': 200}</td>\n",
       "      <td>2.266920</td>\n",
       "    </tr>\n",
       "    <tr>\n",
       "      <th>10</th>\n",
       "      <td>0.624190</td>\n",
       "      <td>0.610200</td>\n",
       "      <td>{'max_depth': 10, 'min_samples_split': 5, 'n_estimators': 200}</td>\n",
       "      <td>2.241235</td>\n",
       "    </tr>\n",
       "    <tr>\n",
       "      <th>9</th>\n",
       "      <td>0.624020</td>\n",
       "      <td>0.610156</td>\n",
       "      <td>{'max_depth': 10, 'min_samples_split': 5, 'n_estimators': 100}</td>\n",
       "      <td>2.221701</td>\n",
       "    </tr>\n",
       "    <tr>\n",
       "      <th>15</th>\n",
       "      <td>0.623877</td>\n",
       "      <td>0.609833</td>\n",
       "      <td>{'max_depth': 10, 'min_samples_split': 10, 'n_estimators': 1000}</td>\n",
       "      <td>2.250995</td>\n",
       "    </tr>\n",
       "    <tr>\n",
       "      <th>13</th>\n",
       "      <td>0.624091</td>\n",
       "      <td>0.609679</td>\n",
       "      <td>{'max_depth': 10, 'min_samples_split': 10, 'n_estimators': 100}</td>\n",
       "      <td>2.309229</td>\n",
       "    </tr>\n",
       "    <tr>\n",
       "      <th>12</th>\n",
       "      <td>0.608023</td>\n",
       "      <td>0.595503</td>\n",
       "      <td>{'max_depth': 10, 'min_samples_split': 10, 'n_estimators': 10}</td>\n",
       "      <td>2.059220</td>\n",
       "    </tr>\n",
       "    <tr>\n",
       "      <th>8</th>\n",
       "      <td>0.605252</td>\n",
       "      <td>0.591830</td>\n",
       "      <td>{'max_depth': 10, 'min_samples_split': 5, 'n_estimators': 10}</td>\n",
       "      <td>2.217540</td>\n",
       "    </tr>\n",
       "    <tr>\n",
       "      <th>6</th>\n",
       "      <td>0.487964</td>\n",
       "      <td>0.486673</td>\n",
       "      <td>{'max_depth': 5, 'min_samples_split': 10, 'n_estimators': 200}</td>\n",
       "      <td>0.264484</td>\n",
       "    </tr>\n",
       "    <tr>\n",
       "      <th>2</th>\n",
       "      <td>0.487756</td>\n",
       "      <td>0.486426</td>\n",
       "      <td>{'max_depth': 5, 'min_samples_split': 5, 'n_estimators': 200}</td>\n",
       "      <td>0.272565</td>\n",
       "    </tr>\n",
       "    <tr>\n",
       "      <th>3</th>\n",
       "      <td>0.487083</td>\n",
       "      <td>0.485579</td>\n",
       "      <td>{'max_depth': 5, 'min_samples_split': 5, 'n_estimators': 1000}</td>\n",
       "      <td>0.308730</td>\n",
       "    </tr>\n",
       "    <tr>\n",
       "      <th>7</th>\n",
       "      <td>0.487029</td>\n",
       "      <td>0.485415</td>\n",
       "      <td>{'max_depth': 5, 'min_samples_split': 10, 'n_estimators': 1000}</td>\n",
       "      <td>0.331460</td>\n",
       "    </tr>\n",
       "    <tr>\n",
       "      <th>5</th>\n",
       "      <td>0.486073</td>\n",
       "      <td>0.484811</td>\n",
       "      <td>{'max_depth': 5, 'min_samples_split': 10, 'n_estimators': 100}</td>\n",
       "      <td>0.259634</td>\n",
       "    </tr>\n",
       "    <tr>\n",
       "      <th>1</th>\n",
       "      <td>0.486068</td>\n",
       "      <td>0.484770</td>\n",
       "      <td>{'max_depth': 5, 'min_samples_split': 5, 'n_estimators': 100}</td>\n",
       "      <td>0.267165</td>\n",
       "    </tr>\n",
       "    <tr>\n",
       "      <th>4</th>\n",
       "      <td>0.483836</td>\n",
       "      <td>0.481912</td>\n",
       "      <td>{'max_depth': 5, 'min_samples_split': 10, 'n_estimators': 10}</td>\n",
       "      <td>0.397685</td>\n",
       "    </tr>\n",
       "    <tr>\n",
       "      <th>0</th>\n",
       "      <td>0.483532</td>\n",
       "      <td>0.481693</td>\n",
       "      <td>{'max_depth': 5, 'min_samples_split': 5, 'n_estimators': 10}</td>\n",
       "      <td>0.380295</td>\n",
       "    </tr>\n",
       "  </tbody>\n",
       "</table>\n",
       "</div>"
      ],
      "text/plain": [
       "    mean_train_score  mean_test_score  \\\n",
       "19          0.855017         0.804862   \n",
       "18          0.855109         0.804847   \n",
       "17          0.853530         0.803515   \n",
       "22          0.846342         0.797325   \n",
       "23          0.846941         0.797179   \n",
       "21          0.844716         0.795572   \n",
       "16          0.822363         0.774400   \n",
       "20          0.808553         0.762944   \n",
       "11          0.625166         0.611171   \n",
       "14          0.624826         0.610662   \n",
       "10          0.624190         0.610200   \n",
       "9           0.624020         0.610156   \n",
       "15          0.623877         0.609833   \n",
       "13          0.624091         0.609679   \n",
       "12          0.608023         0.595503   \n",
       "8           0.605252         0.591830   \n",
       "6           0.487964         0.486673   \n",
       "2           0.487756         0.486426   \n",
       "3           0.487083         0.485579   \n",
       "7           0.487029         0.485415   \n",
       "5           0.486073         0.484811   \n",
       "1           0.486068         0.484770   \n",
       "4           0.483836         0.481912   \n",
       "0           0.483532         0.481693   \n",
       "\n",
       "                                                              params   diff, %  \n",
       "19   {'max_depth': 15, 'min_samples_split': 5, 'n_estimators': 1000}  5.865977  \n",
       "18    {'max_depth': 15, 'min_samples_split': 5, 'n_estimators': 200}  5.877837  \n",
       "17    {'max_depth': 15, 'min_samples_split': 5, 'n_estimators': 100}  5.859747  \n",
       "22   {'max_depth': 15, 'min_samples_split': 10, 'n_estimators': 200}  5.791646  \n",
       "23  {'max_depth': 15, 'min_samples_split': 10, 'n_estimators': 1000}  5.875576  \n",
       "21   {'max_depth': 15, 'min_samples_split': 10, 'n_estimators': 100}  5.817816  \n",
       "16     {'max_depth': 15, 'min_samples_split': 5, 'n_estimators': 10}  5.832294  \n",
       "20    {'max_depth': 15, 'min_samples_split': 10, 'n_estimators': 10}  5.640907  \n",
       "11   {'max_depth': 10, 'min_samples_split': 5, 'n_estimators': 1000}  2.238579  \n",
       "14   {'max_depth': 10, 'min_samples_split': 10, 'n_estimators': 200}  2.266920  \n",
       "10    {'max_depth': 10, 'min_samples_split': 5, 'n_estimators': 200}  2.241235  \n",
       "9     {'max_depth': 10, 'min_samples_split': 5, 'n_estimators': 100}  2.221701  \n",
       "15  {'max_depth': 10, 'min_samples_split': 10, 'n_estimators': 1000}  2.250995  \n",
       "13   {'max_depth': 10, 'min_samples_split': 10, 'n_estimators': 100}  2.309229  \n",
       "12    {'max_depth': 10, 'min_samples_split': 10, 'n_estimators': 10}  2.059220  \n",
       "8      {'max_depth': 10, 'min_samples_split': 5, 'n_estimators': 10}  2.217540  \n",
       "6     {'max_depth': 5, 'min_samples_split': 10, 'n_estimators': 200}  0.264484  \n",
       "2      {'max_depth': 5, 'min_samples_split': 5, 'n_estimators': 200}  0.272565  \n",
       "3     {'max_depth': 5, 'min_samples_split': 5, 'n_estimators': 1000}  0.308730  \n",
       "7    {'max_depth': 5, 'min_samples_split': 10, 'n_estimators': 1000}  0.331460  \n",
       "5     {'max_depth': 5, 'min_samples_split': 10, 'n_estimators': 100}  0.259634  \n",
       "1      {'max_depth': 5, 'min_samples_split': 5, 'n_estimators': 100}  0.267165  \n",
       "4      {'max_depth': 5, 'min_samples_split': 10, 'n_estimators': 10}  0.397685  \n",
       "0       {'max_depth': 5, 'min_samples_split': 5, 'n_estimators': 10}  0.380295  "
      ]
     },
     "execution_count": 201,
     "metadata": {},
     "output_type": "execute_result"
    }
   ],
   "source": [
    "cv_results = pd.DataFrame(os_grid_search.cv_results_)[['mean_train_score', 'mean_test_score','params']]\n",
    "cv_results[\"diff, %\"] = 100*(cv_results[\"mean_train_score\"]-cv_results[\"mean_test_score\"]\n",
    "                                                     )/cv_results[\"mean_train_score\"]\n",
    "\n",
    "pd.set_option('display.max_colwidth', 100)\n",
    "cv_results.sort_values('mean_test_score', ascending=False)"
   ]
  },
  {
   "cell_type": "markdown",
   "id": "3afffbe2",
   "metadata": {},
   "source": [
    "### 4.3 Feature Importance Base on Random Forest"
   ]
  },
  {
   "cell_type": "code",
   "execution_count": 202,
   "id": "c768222a",
   "metadata": {},
   "outputs": [
    {
     "name": "stdout",
     "output_type": "stream",
     "text": [
      "latitude: 0.19275549436365388\n",
      "longitude: 0.18709209396286636\n",
      "speed_limit: 0.10796875862092811\n",
      "number_of_vehicles: 0.07388391957217257\n",
      "number_of_casualties: 0.05140270108342426\n",
      "junction_detail_Not at junction or within 20 metres: 0.030513339942487606\n",
      "first_road_class_Unclassified: 0.02258717944674059\n",
      "road_surface_conditions_Wet or damp: 0.020009005415593837\n",
      "light_conditions_Daylight: 0.017479516832612542\n",
      "day_of_week_Thursday: 0.017167412575128285\n",
      "light_conditions_Darkness - no lighting: 0.016373710444547915\n",
      "road_type_Single Carriageway: 0.015846713855737597\n",
      "day_of_week_Tuesday: 0.015253716142817978\n",
      "day_of_week_Wednesday: 0.015034052511687232\n",
      "day_of_week_Monday: 0.01498987523546321\n",
      "weather_conditions_Fine no high winds: 0.014928205491505132\n",
      "first_road_class_B: 0.014816772576057657\n",
      "day_of_week_Sunday: 0.01471290147835336\n",
      "day_of_week_Saturday: 0.014218581452574751\n",
      "junction_detail_T or staggered junction: 0.013156293731650582\n",
      "pedestrian_crossing_physical_facilities_No physical crossing facilities within 50 metres: 0.012971450589479154\n",
      "light_conditions_Darkness - lights lit: 0.012771812294124631\n",
      "weather_conditions_Raining no high winds: 0.010790811611481998\n",
      "junction_detail_Roundabout: 0.007184691471741734\n",
      "pedestrian_crossing_physical_facilities_Pelican, puffin, toucan or similar non-junction pedestrian light crossing: 0.006596314149363206\n",
      "pedestrian_crossing_physical_facilities_Pedestrian phase at traffic signal junction: 0.006567523887711245\n",
      "junction_detail_Other junction: 0.006469799337523915\n",
      "first_road_class_C: 0.006348802152793981\n",
      "road_type_Roundabout: 0.005677684813805516\n",
      "weather_conditions_Raining + high winds: 0.0054426097766922844\n",
      "pedestrian_crossing_physical_facilities_Zebra: 0.005087183216086199\n",
      "weather_conditions_Other: 0.004530694162592042\n",
      "pedestrian_crossing_physical_facilities_unknown (self reported): 0.0045062841867223626\n",
      "weather_conditions_Unknown: 0.003979331417376948\n",
      "first_road_class_Motorway: 0.0037937998710925744\n",
      "junction_detail_Private drive or entrance: 0.0036625326755189112\n",
      "road_type_Sliproad: 0.0031299259563284465\n",
      "road_surface_conditions_Frost or ice: 0.0030986133644480105\n",
      "light_conditions_Darkness - lights unlit: 0.0030057740282948336\n",
      "weather_conditions_Fog or mist: 0.002293460305962452\n",
      "road_type_One way street: 0.002230518889348808\n",
      "junction_detail_unknown (self reported): 0.0020044569942930307\n",
      "junction_detail_More than 4 arms (not roundabout): 0.0018466471636415516\n",
      "junction_detail_Slip road: 0.0017346481002304022\n",
      "junction_detail_Mini-roundabout: 0.0016419299694913235\n",
      "first_road_class_A(M): 0.0007353011910561922\n",
      "pedestrian_crossing_physical_facilities_Footbridge or subway: 0.0004942350585082188\n",
      "road_surface_conditions_Flood over 3cm. deep: 0.0003925928753498806\n",
      "road_surface_conditions_unknown (self reported): 0.00038094666358869236\n",
      "weather_conditions_Snowing no high winds: 0.00021223093868398118\n",
      "road_surface_conditions_Snow: 0.00017376522419158862\n",
      "weather_conditions_Snowing + high winds: 5.338292647233345e-05\n"
     ]
    }
   ],
   "source": [
    "#feature importance of the variables in Random Forest\n",
    "feature_importances = os_grid_search.best_estimator_.feature_importances_\n",
    "\n",
    "for k, v in sorted(zip(feature_importances, Xtrain.columns), reverse=True):\n",
    "    print(f\"{v}: {k}\")"
   ]
  },
  {
   "cell_type": "markdown",
   "id": "cdaccd16",
   "metadata": {},
   "source": [
    "### 4.3 F1 Score and Accuracy on Test Data after Over Sampling"
   ]
  },
  {
   "cell_type": "code",
   "execution_count": 217,
   "id": "9111e5e6",
   "metadata": {},
   "outputs": [
    {
     "name": "stdout",
     "output_type": "stream",
     "text": [
      "              precision    recall  f1-score   support\n",
      "\n",
      "       Fatal       0.05      0.25      0.08       236\n",
      "     Serious       0.27      0.29      0.28      3211\n",
      "      Slight       0.83      0.75      0.79     12895\n",
      "\n",
      "    accuracy                           0.65     16342\n",
      "   macro avg       0.38      0.43      0.38     16342\n",
      "weighted avg       0.71      0.65      0.68     16342\n",
      "\n"
     ]
    }
   ],
   "source": [
    "# Random Forest oversampling\n",
    "Randomforest_test=evaluate_on_test(os_grid_search.best_estimator_, ytest, Xtest)"
   ]
  },
  {
   "cell_type": "markdown",
   "id": "3558de10",
   "metadata": {},
   "source": [
    "### 4.4 Confusion Matrix Random Forest---Train Data\n",
    "\n",
    "Random forest has the best score of 80% and we can see in the confusion matrix that model is able to identify all the class of the target variable i.e. Fatal, Serious and Slight. We can see that any class is not missclassified with a huge perecentage.\n",
    "\n",
    "The True Label percentage for Fatal is 98%, for Serious it is 74% and for Slight it 85%"
   ]
  },
  {
   "cell_type": "code",
   "execution_count": 203,
   "id": "6066bd60",
   "metadata": {},
   "outputs": [
    {
     "data": {
      "text/plain": [
       "<sklearn.metrics._plot.confusion_matrix.ConfusionMatrixDisplay at 0x167abc3cd60>"
      ]
     },
     "execution_count": 203,
     "metadata": {},
     "output_type": "execute_result"
    },
    {
     "data": {
      "image/png": "[encoded data removed]",
      "text/plain": [
       "<Figure size 432x288 with 2 Axes>"
      ]
     },
     "metadata": {
      "needs_background": "light"
     },
     "output_type": "display_data"
    }
   ],
   "source": [
    "from sklearn.metrics import confusion_matrix, ConfusionMatrixDisplay\n",
    "from sklearn.model_selection import cross_val_predict\n",
    "y_pred = os_grid_search.predict(Xtrain)\n",
    "conf_mat = confusion_matrix(ytrain, y_pred, normalize=\"true\")\n",
    "ConfusionMatrixDisplay(confusion_matrix=conf_mat,\n",
    "                       display_labels=os_grid_search.best_estimator_.classes_\n",
    "                      ).plot(cmap=plt.cm.OrRd)"
   ]
  },
  {
   "cell_type": "markdown",
   "id": "a48a4635",
   "metadata": {},
   "source": [
    "### 4.5 Confusion Matrix Random Forest--Test Data\n",
    "\n",
    "The results are not similar to train set as it is not able to identify Fatal with good accuracy as in train set. For severity as Fatal, model is able to identify with 25% True Label.Model is performing well on training data but not on testing data we can say our model is overfitted."
   ]
  },
  {
   "cell_type": "code",
   "execution_count": 204,
   "id": "38c78948",
   "metadata": {},
   "outputs": [
    {
     "data": {
      "text/plain": [
       "<sklearn.metrics._plot.confusion_matrix.ConfusionMatrixDisplay at 0x167b19a30a0>"
      ]
     },
     "execution_count": 204,
     "metadata": {},
     "output_type": "execute_result"
    },
    {
     "data": {
      "image/png": "[encoded data removed]",
      "text/plain": [
       "<Figure size 432x288 with 2 Axes>"
      ]
     },
     "metadata": {
      "needs_background": "light"
     },
     "output_type": "display_data"
    }
   ],
   "source": [
    "from sklearn.metrics import confusion_matrix, ConfusionMatrixDisplay\n",
    "from sklearn.model_selection import cross_val_predict\n",
    "y_pred = os_grid_search.predict(Xtest)\n",
    "conf_mat = confusion_matrix(ytest, y_pred, normalize=\"true\")\n",
    "ConfusionMatrixDisplay(confusion_matrix=conf_mat,\n",
    "                       display_labels=os_grid_search.best_estimator_.classes_\n",
    "                      ).plot(cmap=plt.cm.OrRd)"
   ]
  },
  {
   "cell_type": "markdown",
   "id": "94878ac2",
   "metadata": {},
   "source": [
    "## 5. Random Forest Using Randomized Search after Oversampling"
   ]
  },
  {
   "cell_type": "code",
   "execution_count": 182,
   "id": "841c9847",
   "metadata": {},
   "outputs": [
    {
     "name": "stdout",
     "output_type": "stream",
     "text": [
      "Fitting 10 folds for each of 10 candidates, totalling 100 fits\n"
     ]
    },
    {
     "data": {
      "text/plain": [
       "RandomizedSearchCV(cv=10, estimator=RandomForestClassifier(random_state=7),\n",
       "                   n_jobs=4,\n",
       "                   param_distributions=[{'max_depth': [5, 10, 15],\n",
       "                                         'min_samples_split': [5, 10],\n",
       "                                         'n_estimators': [10, 100, 200, 1000]}],\n",
       "                   verbose=2)"
      ]
     },
     "execution_count": 182,
     "metadata": {},
     "output_type": "execute_result"
    }
   ],
   "source": [
    "from sklearn.model_selection import RandomizedSearchCV\n",
    "rf = RandomForestClassifier(random_state=7)\n",
    "\n",
    "param_grid = [\n",
    "    {'n_estimators': [10,100,200,1000],\n",
    "     'max_depth': [5,10,15],\n",
    "    'min_samples_split':[5,10]}\n",
    "]\n",
    "\n",
    "rf_RandomGrid=RandomizedSearchCV(estimator=rf,param_distributions=param_grid,scoring='f1_macro',cv=10,verbose=2,n_jobs=4)\n",
    "\n",
    "rf_RandomGrid.fit(Xtrain,ytrain)"
   ]
  },
  {
   "cell_type": "code",
   "execution_count": 183,
   "id": "36a72fef",
   "metadata": {},
   "outputs": [
    {
     "data": {
      "text/plain": [
       "RandomForestClassifier(max_depth=15, min_samples_split=10, n_estimators=1000,\n",
       "                       random_state=7)"
      ]
     },
     "execution_count": 183,
     "metadata": {},
     "output_type": "execute_result"
    }
   ],
   "source": [
    "rf_RandomGrid.best_estimator_"
   ]
  },
  {
   "cell_type": "markdown",
   "id": "5e01f2a7",
   "metadata": {},
   "source": [
    "### 5.1 Accuracy on Training data "
   ]
  },
  {
   "cell_type": "code",
   "execution_count": 228,
   "id": "9e96cbdf",
   "metadata": {},
   "outputs": [
    {
     "data": {
      "text/plain": [
       "0.8045312435668632"
      ]
     },
     "execution_count": 228,
     "metadata": {},
     "output_type": "execute_result"
    }
   ],
   "source": [
    "RandomForest_Randomizedsearch=rf_RandomGrid.best_score_\n",
    "RandomForest_Randomizedsearch"
   ]
  },
  {
   "cell_type": "markdown",
   "id": "d52b0cbe",
   "metadata": {},
   "source": [
    "### 5.2 Accuracy on the Test data"
   ]
  },
  {
   "cell_type": "code",
   "execution_count": 218,
   "id": "b67f3963",
   "metadata": {},
   "outputs": [
    {
     "name": "stdout",
     "output_type": "stream",
     "text": [
      "              precision    recall  f1-score   support\n",
      "\n",
      "       Fatal       0.05      0.24      0.08       236\n",
      "     Serious       0.27      0.29      0.28      3211\n",
      "      Slight       0.83      0.75      0.79     12895\n",
      "\n",
      "    accuracy                           0.65     16342\n",
      "   macro avg       0.38      0.43      0.38     16342\n",
      "weighted avg       0.71      0.65      0.68     16342\n",
      "\n"
     ]
    }
   ],
   "source": [
    "RandomForest_Randomizedsearch_test=evaluate_on_test(rf_RandomGrid.best_estimator_, ytest, Xtest)"
   ]
  },
  {
   "cell_type": "markdown",
   "id": "96bf40c3",
   "metadata": {},
   "source": [
    "## 6 SVM"
   ]
  },
  {
   "cell_type": "markdown",
   "id": "6d2e3611",
   "metadata": {},
   "source": [
    "### 6.1 Builiding the Model"
   ]
  },
  {
   "cell_type": "code",
   "execution_count": 188,
   "id": "d9f5fb40",
   "metadata": {},
   "outputs": [
    {
     "name": "stderr",
     "output_type": "stream",
     "text": [
      "C:\\Users\\abhin\\anaconda3\\lib\\site-packages\\sklearn\\svm\\_base.py:985: ConvergenceWarning: Liblinear failed to converge, increase the number of iterations.\n",
      "  warnings.warn(\"Liblinear failed to converge, increase \"\n",
      "C:\\Users\\abhin\\anaconda3\\lib\\site-packages\\sklearn\\svm\\_base.py:985: ConvergenceWarning: Liblinear failed to converge, increase the number of iterations.\n",
      "  warnings.warn(\"Liblinear failed to converge, increase \"\n",
      "C:\\Users\\abhin\\anaconda3\\lib\\site-packages\\sklearn\\svm\\_base.py:985: ConvergenceWarning: Liblinear failed to converge, increase the number of iterations.\n",
      "  warnings.warn(\"Liblinear failed to converge, increase \"\n",
      "C:\\Users\\abhin\\anaconda3\\lib\\site-packages\\sklearn\\svm\\_base.py:985: ConvergenceWarning: Liblinear failed to converge, increase the number of iterations.\n",
      "  warnings.warn(\"Liblinear failed to converge, increase \"\n",
      "C:\\Users\\abhin\\anaconda3\\lib\\site-packages\\sklearn\\svm\\_base.py:985: ConvergenceWarning: Liblinear failed to converge, increase the number of iterations.\n",
      "  warnings.warn(\"Liblinear failed to converge, increase \"\n"
     ]
    },
    {
     "name": "stdout",
     "output_type": "stream",
     "text": [
      "Took 4001.841055870056 seconds\n"
     ]
    }
   ],
   "source": [
    "from sklearn.svm import LinearSVC\n",
    "from sklearn.model_selection import GridSearchCV\n",
    "\n",
    "lsvm = LinearSVC(random_state=7)\n",
    "\n",
    "param_grid = {\n",
    "    'C': [0.001, 0.01, 0.1, 1],\n",
    "    'max_iter': [5000]\n",
    "}\n",
    "\n",
    "svm_grid_search = GridSearchCV(lsvm, param_grid, cv=5, scoring='f1_macro', return_train_score=True) \n",
    "\n",
    "start = time.time()\n",
    "svm_grid_search.fit(Xtrain, ytrain)\n",
    "end = time.time() - start\n",
    "print(f\"Took {end} seconds\")"
   ]
  },
  {
   "cell_type": "code",
   "execution_count": 192,
   "id": "61160f9b",
   "metadata": {},
   "outputs": [
    {
     "name": "stderr",
     "output_type": "stream",
     "text": [
      "C:\\Users\\abhin\\anaconda3\\lib\\site-packages\\sklearn\\svm\\_base.py:985: ConvergenceWarning: Liblinear failed to converge, increase the number of iterations.\n",
      "  warnings.warn(\"Liblinear failed to converge, increase \"\n",
      "C:\\Users\\abhin\\anaconda3\\lib\\site-packages\\sklearn\\svm\\_base.py:985: ConvergenceWarning: Liblinear failed to converge, increase the number of iterations.\n",
      "  warnings.warn(\"Liblinear failed to converge, increase \"\n",
      "C:\\Users\\abhin\\anaconda3\\lib\\site-packages\\sklearn\\svm\\_base.py:985: ConvergenceWarning: Liblinear failed to converge, increase the number of iterations.\n",
      "  warnings.warn(\"Liblinear failed to converge, increase \"\n",
      "C:\\Users\\abhin\\anaconda3\\lib\\site-packages\\sklearn\\svm\\_base.py:985: ConvergenceWarning: Liblinear failed to converge, increase the number of iterations.\n",
      "  warnings.warn(\"Liblinear failed to converge, increase \"\n",
      "C:\\Users\\abhin\\anaconda3\\lib\\site-packages\\sklearn\\svm\\_base.py:985: ConvergenceWarning: Liblinear failed to converge, increase the number of iterations.\n",
      "  warnings.warn(\"Liblinear failed to converge, increase \"\n"
     ]
    },
    {
     "data": {
      "text/plain": [
       "GridSearchCV(cv=5, estimator=LinearSVC(random_state=7),\n",
       "             param_grid={'C': [0.001, 0.01, 0.1, 1], 'max_iter': [5000]},\n",
       "             return_train_score=True, scoring='f1_macro')"
      ]
     },
     "execution_count": 192,
     "metadata": {},
     "output_type": "execute_result"
    }
   ],
   "source": [
    "svm_grid_search.fit(Xtrain, ytrain)"
   ]
  },
  {
   "cell_type": "code",
   "execution_count": 195,
   "id": "e257be7e",
   "metadata": {},
   "outputs": [
    {
     "data": {
      "text/plain": [
       "LinearSVC(C=0.1, max_iter=5000, random_state=7)"
      ]
     },
     "execution_count": 195,
     "metadata": {},
     "output_type": "execute_result"
    }
   ],
   "source": [
    "svm_grid_search.best_estimator_"
   ]
  },
  {
   "cell_type": "markdown",
   "id": "26f018bf",
   "metadata": {},
   "source": [
    "### 6.1 F1 Score on Training Data"
   ]
  },
  {
   "cell_type": "code",
   "execution_count": 196,
   "id": "b730d4d7",
   "metadata": {},
   "outputs": [
    {
     "data": {
      "text/plain": [
       "0.4647306198426918"
      ]
     },
     "execution_count": 196,
     "metadata": {},
     "output_type": "execute_result"
    }
   ],
   "source": [
    "SVM=svm_grid_search.best_score_\n",
    "SVM"
   ]
  },
  {
   "cell_type": "markdown",
   "id": "991a62cf",
   "metadata": {},
   "source": [
    "### 6.2 Evaluation on Test Data"
   ]
  },
  {
   "cell_type": "code",
   "execution_count": 219,
   "id": "49e30365",
   "metadata": {},
   "outputs": [
    {
     "name": "stdout",
     "output_type": "stream",
     "text": [
      "              precision    recall  f1-score   support\n",
      "\n",
      "       Fatal       0.03      0.64      0.06       236\n",
      "     Serious       0.22      0.21      0.21      3211\n",
      "      Slight       0.84      0.57      0.67     12895\n",
      "\n",
      "    accuracy                           0.50     16342\n",
      "   macro avg       0.36      0.47      0.32     16342\n",
      "weighted avg       0.70      0.50      0.58     16342\n",
      "\n"
     ]
    }
   ],
   "source": [
    "# SVM after oversampling\n",
    "SVM_test=evaluate_on_test(svm_grid_search.best_estimator_, ytest, Xtest)"
   ]
  },
  {
   "cell_type": "markdown",
   "id": "d8ba53e5",
   "metadata": {},
   "source": [
    "###  6.3 Confusion Matrix for SVM---Train Data\n",
    "\n",
    "On traning Set SVM is able to identify severity as Fatal 66% and for serious it very low to 23% "
   ]
  },
  {
   "cell_type": "code",
   "execution_count": 197,
   "id": "3c0f0731",
   "metadata": {},
   "outputs": [
    {
     "data": {
      "text/plain": [
       "<sklearn.metrics._plot.confusion_matrix.ConfusionMatrixDisplay at 0x167b99643d0>"
      ]
     },
     "execution_count": 197,
     "metadata": {},
     "output_type": "execute_result"
    },
    {
     "data": {
      "image/png": "[encoded data removed]",
      "text/plain": [
       "<Figure size 432x288 with 2 Axes>"
      ]
     },
     "metadata": {
      "needs_background": "light"
     },
     "output_type": "display_data"
    }
   ],
   "source": [
    "from sklearn.metrics import confusion_matrix, ConfusionMatrixDisplay\n",
    "from sklearn.model_selection import cross_val_predict\n",
    "y_pred = svm_grid_search.predict(Xtrain)\n",
    "conf_mat = confusion_matrix(ytrain, y_pred, normalize=\"true\")\n",
    "ConfusionMatrixDisplay(confusion_matrix=conf_mat,\n",
    "                       display_labels=svm_grid_search.best_estimator_.classes_\n",
    "                      ).plot(cmap=plt.cm.OrRd)"
   ]
  },
  {
   "cell_type": "markdown",
   "id": "d076876b",
   "metadata": {},
   "source": [
    "### 6.4 Confusion Matrix SVM for Test data\n",
    "\n",
    "We can see from the confusion matrix that accuracy of identifying accident severity as fatal is 64% ,Serious is 21%  and Slight is 57%. Whereas Slight is missclassified as Serious 47 % which is a lot. \n",
    "The SVM is able to identify Fatal most accurately than any other class"
   ]
  },
  {
   "cell_type": "code",
   "execution_count": 281,
   "id": "483fd979",
   "metadata": {},
   "outputs": [
    {
     "data": {
      "text/plain": [
       "<sklearn.metrics._plot.confusion_matrix.ConfusionMatrixDisplay at 0x167b4266b80>"
      ]
     },
     "execution_count": 281,
     "metadata": {},
     "output_type": "execute_result"
    },
    {
     "data": {
      "image/png": "[encoded data removed]",
      "text/plain": [
       "<Figure size 432x288 with 2 Axes>"
      ]
     },
     "metadata": {
      "needs_background": "light"
     },
     "output_type": "display_data"
    }
   ],
   "source": [
    "from sklearn.metrics import confusion_matrix, ConfusionMatrixDisplay\n",
    "from sklearn.model_selection import cross_val_predict\n",
    "y_pred = svm_grid_search.predict(Xtest)\n",
    "conf_mat = confusion_matrix(ytest, y_pred, normalize=\"true\")\n",
    "ConfusionMatrixDisplay(confusion_matrix=conf_mat,\n",
    "                       display_labels=svm_grid_search.best_estimator_.classes_\n",
    "                      ).plot(cmap=plt.cm.OrRd)"
   ]
  },
  {
   "cell_type": "markdown",
   "id": "93f35140",
   "metadata": {},
   "source": [
    "## 7. Multinomial Logistic Regression\n",
    "\n",
    "Build the Multinomial Logistic Regression to see if we can get better accuracy in comparison to other output"
   ]
  },
  {
   "cell_type": "code",
   "execution_count": 128,
   "id": "e53f7ff6",
   "metadata": {},
   "outputs": [
    {
     "name": "stderr",
     "output_type": "stream",
     "text": [
      "C:\\Users\\abhin\\anaconda3\\lib\\site-packages\\daal4py\\sklearn\\linear_model\\logistic_path.py:459: ConvergenceWarning: lbfgs failed to converge (status=1):\n",
      "STOP: TOTAL NO. of ITERATIONS REACHED LIMIT.\n",
      "\n",
      "Increase the number of iterations (max_iter) or scale the data as shown in:\n",
      "    https://scikit-learn.org/stable/modules/preprocessing.html\n",
      "Please also refer to the documentation for alternative solver options:\n",
      "    https://scikit-learn.org/stable/modules/linear_model.html#logistic-regression\n",
      "  n_iter_i = _check_optimize_result(\n",
      "C:\\Users\\abhin\\anaconda3\\lib\\site-packages\\daal4py\\sklearn\\linear_model\\logistic_path.py:459: ConvergenceWarning: lbfgs failed to converge (status=1):\n",
      "STOP: TOTAL NO. of ITERATIONS REACHED LIMIT.\n",
      "\n",
      "Increase the number of iterations (max_iter) or scale the data as shown in:\n",
      "    https://scikit-learn.org/stable/modules/preprocessing.html\n",
      "Please also refer to the documentation for alternative solver options:\n",
      "    https://scikit-learn.org/stable/modules/linear_model.html#logistic-regression\n",
      "  n_iter_i = _check_optimize_result(\n",
      "C:\\Users\\abhin\\anaconda3\\lib\\site-packages\\daal4py\\sklearn\\linear_model\\logistic_path.py:459: ConvergenceWarning: lbfgs failed to converge (status=1):\n",
      "STOP: TOTAL NO. of ITERATIONS REACHED LIMIT.\n",
      "\n",
      "Increase the number of iterations (max_iter) or scale the data as shown in:\n",
      "    https://scikit-learn.org/stable/modules/preprocessing.html\n",
      "Please also refer to the documentation for alternative solver options:\n",
      "    https://scikit-learn.org/stable/modules/linear_model.html#logistic-regression\n",
      "  n_iter_i = _check_optimize_result(\n",
      "C:\\Users\\abhin\\anaconda3\\lib\\site-packages\\daal4py\\sklearn\\linear_model\\logistic_path.py:459: ConvergenceWarning: lbfgs failed to converge (status=1):\n",
      "STOP: TOTAL NO. of ITERATIONS REACHED LIMIT.\n",
      "\n",
      "Increase the number of iterations (max_iter) or scale the data as shown in:\n",
      "    https://scikit-learn.org/stable/modules/preprocessing.html\n",
      "Please also refer to the documentation for alternative solver options:\n",
      "    https://scikit-learn.org/stable/modules/linear_model.html#logistic-regression\n",
      "  n_iter_i = _check_optimize_result(\n",
      "C:\\Users\\abhin\\anaconda3\\lib\\site-packages\\daal4py\\sklearn\\linear_model\\logistic_path.py:459: ConvergenceWarning: lbfgs failed to converge (status=1):\n",
      "STOP: TOTAL NO. of ITERATIONS REACHED LIMIT.\n",
      "\n",
      "Increase the number of iterations (max_iter) or scale the data as shown in:\n",
      "    https://scikit-learn.org/stable/modules/preprocessing.html\n",
      "Please also refer to the documentation for alternative solver options:\n",
      "    https://scikit-learn.org/stable/modules/linear_model.html#logistic-regression\n",
      "  n_iter_i = _check_optimize_result(\n",
      "C:\\Users\\abhin\\anaconda3\\lib\\site-packages\\daal4py\\sklearn\\linear_model\\logistic_path.py:459: ConvergenceWarning: lbfgs failed to converge (status=1):\n",
      "STOP: TOTAL NO. of ITERATIONS REACHED LIMIT.\n",
      "\n",
      "Increase the number of iterations (max_iter) or scale the data as shown in:\n",
      "    https://scikit-learn.org/stable/modules/preprocessing.html\n",
      "Please also refer to the documentation for alternative solver options:\n",
      "    https://scikit-learn.org/stable/modules/linear_model.html#logistic-regression\n",
      "  n_iter_i = _check_optimize_result(\n",
      "C:\\Users\\abhin\\anaconda3\\lib\\site-packages\\daal4py\\sklearn\\linear_model\\logistic_path.py:459: ConvergenceWarning: lbfgs failed to converge (status=1):\n",
      "STOP: TOTAL NO. of ITERATIONS REACHED LIMIT.\n",
      "\n",
      "Increase the number of iterations (max_iter) or scale the data as shown in:\n",
      "    https://scikit-learn.org/stable/modules/preprocessing.html\n",
      "Please also refer to the documentation for alternative solver options:\n",
      "    https://scikit-learn.org/stable/modules/linear_model.html#logistic-regression\n",
      "  n_iter_i = _check_optimize_result(\n",
      "C:\\Users\\abhin\\anaconda3\\lib\\site-packages\\daal4py\\sklearn\\linear_model\\logistic_path.py:459: ConvergenceWarning: lbfgs failed to converge (status=1):\n",
      "STOP: TOTAL NO. of ITERATIONS REACHED LIMIT.\n",
      "\n",
      "Increase the number of iterations (max_iter) or scale the data as shown in:\n",
      "    https://scikit-learn.org/stable/modules/preprocessing.html\n",
      "Please also refer to the documentation for alternative solver options:\n",
      "    https://scikit-learn.org/stable/modules/linear_model.html#logistic-regression\n",
      "  n_iter_i = _check_optimize_result(\n",
      "C:\\Users\\abhin\\anaconda3\\lib\\site-packages\\daal4py\\sklearn\\linear_model\\logistic_path.py:459: ConvergenceWarning: lbfgs failed to converge (status=1):\n",
      "STOP: TOTAL NO. of ITERATIONS REACHED LIMIT.\n",
      "\n",
      "Increase the number of iterations (max_iter) or scale the data as shown in:\n",
      "    https://scikit-learn.org/stable/modules/preprocessing.html\n",
      "Please also refer to the documentation for alternative solver options:\n",
      "    https://scikit-learn.org/stable/modules/linear_model.html#logistic-regression\n",
      "  n_iter_i = _check_optimize_result(\n",
      "C:\\Users\\abhin\\anaconda3\\lib\\site-packages\\daal4py\\sklearn\\linear_model\\logistic_path.py:459: ConvergenceWarning: lbfgs failed to converge (status=1):\n",
      "STOP: TOTAL NO. of ITERATIONS REACHED LIMIT.\n",
      "\n",
      "Increase the number of iterations (max_iter) or scale the data as shown in:\n",
      "    https://scikit-learn.org/stable/modules/preprocessing.html\n",
      "Please also refer to the documentation for alternative solver options:\n",
      "    https://scikit-learn.org/stable/modules/linear_model.html#logistic-regression\n",
      "  n_iter_i = _check_optimize_result(\n"
     ]
    },
    {
     "name": "stdout",
     "output_type": "stream",
     "text": [
      "Took 159.28134274482727 seconds\n"
     ]
    }
   ],
   "source": [
    "from sklearn.linear_model import LogisticRegression\n",
    "\n",
    "logmodal=LogisticRegression(solver='lbfgs')\n",
    "\n",
    "param_grid = {\n",
    "    'C':[0.001,0.01,0.1],\n",
    "    'max_iter':[100,1000,2500]\n",
    "    }\n",
    "\n",
    "logis_grid_search = GridSearchCV(logmodal, param_grid, cv=5,\n",
    "                           scoring='f1_macro', \n",
    "                           return_train_score=True) \n",
    "\n",
    "start = time.time()\n",
    "logis_grid_search.fit(Xtrain, ytrain)\n",
    "end = time.time() - start\n",
    "print(f\"Took {end} seconds\")"
   ]
  },
  {
   "cell_type": "code",
   "execution_count": 129,
   "id": "a168f718",
   "metadata": {},
   "outputs": [
    {
     "data": {
      "text/plain": [
       "LogisticRegression(C=0.1, max_iter=1000)"
      ]
     },
     "execution_count": 129,
     "metadata": {},
     "output_type": "execute_result"
    }
   ],
   "source": [
    "logis_grid_search.best_estimator_"
   ]
  },
  {
   "cell_type": "markdown",
   "id": "fdf41df0",
   "metadata": {},
   "source": [
    "### 7.1 F1-score Logistic on Training Data"
   ]
  },
  {
   "cell_type": "code",
   "execution_count": 130,
   "id": "14f6069d",
   "metadata": {},
   "outputs": [
    {
     "data": {
      "text/plain": [
       "0.47196283815897233"
      ]
     },
     "execution_count": 130,
     "metadata": {},
     "output_type": "execute_result"
    }
   ],
   "source": [
    "Logistic=logis_grid_search.best_score_\n",
    "Logistic"
   ]
  },
  {
   "cell_type": "markdown",
   "id": "a7354a40",
   "metadata": {},
   "source": [
    "### 7.2 Evaluation on Test Data"
   ]
  },
  {
   "cell_type": "code",
   "execution_count": 220,
   "id": "c92f0373",
   "metadata": {},
   "outputs": [
    {
     "name": "stdout",
     "output_type": "stream",
     "text": [
      "              precision    recall  f1-score   support\n",
      "\n",
      "       Fatal       0.03      0.61      0.07       236\n",
      "     Serious       0.22      0.26      0.24      3211\n",
      "      Slight       0.84      0.54      0.66     12895\n",
      "\n",
      "    accuracy                           0.49     16342\n",
      "   macro avg       0.36      0.47      0.32     16342\n",
      "weighted avg       0.70      0.49      0.57     16342\n",
      "\n"
     ]
    }
   ],
   "source": [
    "# Logistic Regression\n",
    "Logistic_test=evaluate_on_test(logis_grid_search.best_estimator_, ytest, Xtest)"
   ]
  },
  {
   "cell_type": "markdown",
   "id": "e541333b",
   "metadata": {},
   "source": [
    "F1 score abtained from training data with Multinomial Logistic Model is 47% and with test data it is 32%."
   ]
  },
  {
   "cell_type": "code",
   "execution_count": 148,
   "id": "ae2f5e3d",
   "metadata": {},
   "outputs": [],
   "source": [
    "def evaluate_on_test(model, ytest, Xtest):\n",
    "    yhat = model.predict(Xtest)\n",
    "    print(classification_report(ytest, yhat))"
   ]
  },
  {
   "cell_type": "markdown",
   "id": "51caf964",
   "metadata": {},
   "source": [
    "## Pickling the model into the Local Directly"
   ]
  },
  {
   "cell_type": "code",
   "execution_count": 94,
   "id": "21f15ebd",
   "metadata": {},
   "outputs": [],
   "source": [
    "import os\n",
    "from joblib import dump\n",
    "# create a folder where all trained models will be kept\n",
    "if not os.path.exists(\"models\"):\n",
    "    os.makedirs(\"models\")"
   ]
  },
  {
   "cell_type": "code",
   "execution_count": 95,
   "id": "48c9ddea",
   "metadata": {},
   "outputs": [
    {
     "data": {
      "text/plain": [
       "['models/rf-clf.joblib']"
      ]
     },
     "execution_count": 95,
     "metadata": {},
     "output_type": "execute_result"
    }
   ],
   "source": [
    "dump(Randomforest, 'models/rf-clf.joblib')"
   ]
  },
  {
   "cell_type": "code",
   "execution_count": null,
   "id": "0c276dec",
   "metadata": {},
   "outputs": [],
   "source": [
    "dump(SVM, 'models/svm-clf.joblib')"
   ]
  },
  {
   "cell_type": "code",
   "execution_count": 96,
   "id": "60040ad3",
   "metadata": {},
   "outputs": [
    {
     "data": {
      "text/plain": [
       "0.8048621413663172"
      ]
     },
     "execution_count": 96,
     "metadata": {},
     "output_type": "execute_result"
    }
   ],
   "source": [
    "from joblib import load\n",
    "best_rf=load('models/rf-clf.joblib')\n",
    "best_rf"
   ]
  },
  {
   "cell_type": "code",
   "execution_count": 50,
   "id": "4e6b33ad",
   "metadata": {},
   "outputs": [
    {
     "data": {
      "text/plain": [
       "['models/svm-clf.joblib']"
      ]
     },
     "execution_count": 50,
     "metadata": {},
     "output_type": "execute_result"
    }
   ],
   "source": [
    "svm=load('models/svm-clf.joblib')\n",
    "svm"
   ]
  },
  {
   "cell_type": "raw",
   "id": "0e4975d7",
   "metadata": {},
   "source": [
    "# Accuracy Comparision with Baseline for Training Data\n",
    "\n",
    "When compared F1-score of models after oversamlpingthe highest F1-score obtained is with Random Forest.Also the hiest test data F1-score obtained is with Random Forest equal to 65%. Percentage of improvement from the baseline model for random forest is around 173%"
   ]
  },
  {
   "cell_type": "code",
   "execution_count": 267,
   "id": "504c4163",
   "metadata": {},
   "outputs": [
    {
     "data": {
      "text/html": [
       "<div>\n",
       "<style scoped>\n",
       "    .dataframe tbody tr th:only-of-type {\n",
       "        vertical-align: middle;\n",
       "    }\n",
       "\n",
       "    .dataframe tbody tr th {\n",
       "        vertical-align: top;\n",
       "    }\n",
       "\n",
       "    .dataframe thead th {\n",
       "        text-align: right;\n",
       "    }\n",
       "</style>\n",
       "<table border=\"1\" class=\"dataframe\">\n",
       "  <thead>\n",
       "    <tr style=\"text-align: right;\">\n",
       "      <th></th>\n",
       "      <th>f1_score</th>\n",
       "      <th>Percentage Improvement</th>\n",
       "    </tr>\n",
       "  </thead>\n",
       "  <tbody>\n",
       "    <tr>\n",
       "      <th>Baseline</th>\n",
       "      <td>0.294012</td>\n",
       "      <td>0.000000</td>\n",
       "    </tr>\n",
       "    <tr>\n",
       "      <th>Decision Tree Classifier</th>\n",
       "      <td>0.717735</td>\n",
       "      <td>144.117300</td>\n",
       "    </tr>\n",
       "    <tr>\n",
       "      <th>Random Forest After OverSampling</th>\n",
       "      <td>0.804862</td>\n",
       "      <td>173.751246</td>\n",
       "    </tr>\n",
       "    <tr>\n",
       "      <th>RandomForest_Randomizedsearch</th>\n",
       "      <td>0.804531</td>\n",
       "      <td>173.638700</td>\n",
       "    </tr>\n",
       "    <tr>\n",
       "      <th>SVM After OverSampling</th>\n",
       "      <td>0.464731</td>\n",
       "      <td>58.065064</td>\n",
       "    </tr>\n",
       "    <tr>\n",
       "      <th>Logistics Regression</th>\n",
       "      <td>0.471963</td>\n",
       "      <td>60.524900</td>\n",
       "    </tr>\n",
       "  </tbody>\n",
       "</table>\n",
       "</div>"
      ],
      "text/plain": [
       "                                  f1_score  Percentage Improvement\n",
       "Baseline                          0.294012                0.000000\n",
       "Decision Tree Classifier          0.717735              144.117300\n",
       "Random Forest After OverSampling  0.804862              173.751246\n",
       "RandomForest_Randomizedsearch     0.804531              173.638700\n",
       "SVM After OverSampling            0.464731               58.065064\n",
       "Logistics Regression              0.471963               60.524900"
      ]
     },
     "execution_count": 267,
     "metadata": {},
     "output_type": "execute_result"
    }
   ],
   "source": [
    "f1_score={\n",
    "    'Baseline':[f],\n",
    "    'Decision Tree Classifier':[Decisiontree],\n",
    "    'Random Forest After OverSampling':[Randomforest],\n",
    "    'RandomForest_Randomizedsearch':[RandomForest_Randomizedsearch],\n",
    "    'SVM After OverSampling':[SVM],\n",
    "    'Logistics Regression':[Logistic]\n",
    "}\n",
    "\n",
    "score=pd.DataFrame(f1_score).transpose()\n",
    "score.columns=['f1_score']\n",
    "score['Percentage Improvement']=100*(score[\"f1_score\"]-f)/f\n",
    "score\n"
   ]
  },
  {
   "cell_type": "code",
   "execution_count": null,
   "id": "b28358dd",
   "metadata": {},
   "outputs": [],
   "source": []
  }
 ],
 "metadata": {
  "kernelspec": {
   "display_name": "Python 3",
   "language": "python",
   "name": "python3"
  },
  "language_info": {
   "codemirror_mode": {
    "name": "ipython",
    "version": 3
   },
   "file_extension": ".py",
   "mimetype": "text/x-python",
   "name": "python",
   "nbconvert_exporter": "python",
   "pygments_lexer": "ipython3",
   "version": "3.8.8"
  }
 },
 "nbformat": 4,
 "nbformat_minor": 5
}
